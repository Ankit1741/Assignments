{
 "cells": [
  {
   "cell_type": "markdown",
   "id": "538280eb",
   "metadata": {},
   "source": [
    "# 1. To what does a relative path refer?\n",
    "\n",
    "Relative path is defined as the path related to the present working directory."
   ]
  },
  {
   "cell_type": "markdown",
   "id": "6947283c",
   "metadata": {},
   "source": [
    "# 2. What does an absolute path start with your operating system?\n",
    "\n",
    "Absolute path start with the root directory."
   ]
  },
  {
   "cell_type": "markdown",
   "id": "cddc87a6",
   "metadata": {},
   "source": [
    "# 3. What do the functions os.getcwd() and os.chdir() do?\n",
    "\n",
    "os.getcwd() returns the current working directory.\n",
    "<br>\n",
    "os.chdir() changes the current working directory to the given path."
   ]
  },
  {
   "cell_type": "markdown",
   "id": "a206c077",
   "metadata": {},
   "source": [
    "# 4. What are the . and .. folders?\n",
    "\n",
    ". represents the current path level or the current folder. <br>\n",
    ".. represents the one upper path level or the parent folder of the current folder."
   ]
  },
  {
   "cell_type": "markdown",
   "id": "afd05089",
   "metadata": {},
   "source": [
    "# 5. In C:\\bacon\\eggs\\spam.txt, which part is the dir name, and which part is the base name?\n",
    "\n",
    "BaseName :- 'spam.txt'\n",
    "\n",
    "dir name :- 'C:\\\\bacon\\\\eggs'\n"
   ]
  },
  {
   "cell_type": "code",
   "execution_count": 1,
   "id": "2d03c188",
   "metadata": {},
   "outputs": [
    {
     "data": {
      "text/plain": [
       "'spam.txt'"
      ]
     },
     "execution_count": 1,
     "metadata": {},
     "output_type": "execute_result"
    }
   ],
   "source": [
    "import os\n",
    "\n",
    "os.path.basename('C:\\bacon\\eggs\\spam.txt')"
   ]
  },
  {
   "cell_type": "code",
   "execution_count": 2,
   "id": "5bfed731",
   "metadata": {},
   "outputs": [
    {
     "data": {
      "text/plain": [
       "'C:\\\\bacon\\\\eggs'"
      ]
     },
     "execution_count": 2,
     "metadata": {},
     "output_type": "execute_result"
    }
   ],
   "source": [
    "os.path.dirname(r'C:\\bacon\\eggs\\spam.txt')"
   ]
  },
  {
   "cell_type": "markdown",
   "id": "04f2e708",
   "metadata": {},
   "source": [
    "# 6. What are the three “mode” arguments that can be passed to the open() function?\n",
    "\n",
    "r : for opening a file in read-only mode<br>\n",
    "w : for opening a file in write-only mode<br>\n",
    "a : for opening a file to apend data in the file"
   ]
  },
  {
   "cell_type": "markdown",
   "id": "b4d17f00",
   "metadata": {},
   "source": [
    "# 7. What happens if an existing file is opened in write mode?\n",
    "\n",
    "It points the cursor in the start and all the data is overwritten"
   ]
  },
  {
   "cell_type": "markdown",
   "id": "0f06ddaf",
   "metadata": {},
   "source": [
    "# 8. How do you tell the difference between read() and readlines()?\n",
    "\n",
    "read() will return the content in str format. <br>\n",
    "readlines() will return the lists of the lines in the content."
   ]
  },
  {
   "cell_type": "code",
   "execution_count": 3,
   "id": "9828ee96",
   "metadata": {},
   "outputs": [
    {
     "name": "stdout",
     "output_type": "stream",
     "text": [
      "Hello, I am Ankit. \n",
      " I am a student.\n",
      "['Hello, I am Ankit. \\n', ' I am a student.']\n"
     ]
    }
   ],
   "source": [
    "file = open('test.txt', 'w')\n",
    "\n",
    "file.write('Hello, I am Ankit. \\n I am a student.')\n",
    "file.close()\n",
    "\n",
    "file = open('test.txt', 'r')\n",
    "a = file.read()\n",
    "print(a)\n",
    "file.close()\n",
    "\n",
    "file = open('test.txt', 'r')\n",
    "b = file.readlines()\n",
    "print(b)\n",
    "\n",
    "file.close()\n"
   ]
  },
  {
   "cell_type": "markdown",
   "id": "00ff6565",
   "metadata": {},
   "source": [
    "# 9. What data structure does a shelf value resemble?\n",
    "\n",
    "A shelf value resembles the dictionary data structure."
   ]
  },
  {
   "cell_type": "code",
   "execution_count": null,
   "id": "ad0ed6de",
   "metadata": {},
   "outputs": [],
   "source": []
  }
 ],
 "metadata": {
  "kernelspec": {
   "display_name": "Python 3 (ipykernel)",
   "language": "python",
   "name": "python3"
  },
  "language_info": {
   "codemirror_mode": {
    "name": "ipython",
    "version": 3
   },
   "file_extension": ".py",
   "mimetype": "text/x-python",
   "name": "python",
   "nbconvert_exporter": "python",
   "pygments_lexer": "ipython3",
   "version": "3.9.7"
  }
 },
 "nbformat": 4,
 "nbformat_minor": 5
}
