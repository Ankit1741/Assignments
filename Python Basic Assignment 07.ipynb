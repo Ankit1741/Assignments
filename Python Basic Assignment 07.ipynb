{
 "cells": [
  {
   "cell_type": "markdown",
   "metadata": {},
   "source": [
    "# 1. What is the name of the feature responsible for generating Regex objects?\n",
    "<br>\n",
    "<br>\n",
    "<br>\n",
    "\n",
    "<i>In python, re.compile() method is used for generating Regex objects.</i>"
   ]
  },
  {
   "cell_type": "code",
   "execution_count": 1,
   "metadata": {},
   "outputs": [
    {
     "data": {
      "text/plain": [
       "re.compile(r'hello', re.UNICODE)"
      ]
     },
     "execution_count": 1,
     "metadata": {},
     "output_type": "execute_result"
    }
   ],
   "source": [
    "import re\n",
    "\n",
    "a = re.compile(\"hello\")\n",
    "\n",
    "a"
   ]
  },
  {
   "cell_type": "markdown",
   "metadata": {},
   "source": [
    "# 2. Why do raw strings often appear in Regex objects?\n",
    "\n",
    "<br>\n",
    "<br>\n",
    "<i>Normal string has special implication of \"\\\" character. ex:- \\n, \\t etc.\n",
    "    In order to suspend or ignore the special impilication of the \"\\\" character in the Regex objects, raw strings are used.</i>"
   ]
  },
  {
   "cell_type": "code",
   "execution_count": 2,
   "metadata": {},
   "outputs": [
    {
     "name": "stdout",
     "output_type": "stream",
     "text": [
      "normal :  \\\\\n",
      "raw : \\\\\\\\\n"
     ]
    }
   ],
   "source": [
    "# for normal string:\n",
    "print(\"normal :  \\\\\\\\\") # will print only 2 '\\'\n",
    "\n",
    "print(r'raw : \\\\\\\\') # will print 4 '\\'\n",
    "\n"
   ]
  },
  {
   "cell_type": "markdown",
   "metadata": {},
   "source": [
    "# 3. What is the return value of the search() method?\n",
    "\n",
    "<br>\n",
    "<br>\n",
    "<i> search() returns a Match object. It returns the first value matched with the given pattern in the whole string. If pattern doesn't match, None is return.</i>"
   ]
  },
  {
   "cell_type": "code",
   "execution_count": 3,
   "metadata": {},
   "outputs": [
    {
     "name": "stdout",
     "output_type": "stream",
     "text": [
      "<class 're.Match'>\n",
      "<re.Match object; span=(2, 4), match='ll'>\n"
     ]
    }
   ],
   "source": [
    "# example\n",
    "\n",
    "string = 'Hello, today we will learn python regular expression.'\n",
    "\n",
    "pat = r'll'\n",
    "\n",
    "a = re.search(pat, string)\n",
    "\n",
    "print(type(a))\n",
    "print(a)"
   ]
  },
  {
   "cell_type": "markdown",
   "metadata": {},
   "source": [
    "# 4. From a Match item, how do you get the actual strings that match the pattern?\n",
    "<br>\n",
    "<br>\n",
    "<i>\n",
    " Using the group() method.</i>"
   ]
  },
  {
   "cell_type": "code",
   "execution_count": 4,
   "metadata": {},
   "outputs": [
    {
     "name": "stdout",
     "output_type": "stream",
     "text": [
      "ll\n"
     ]
    }
   ],
   "source": [
    "print(a.group(0))"
   ]
  },
  {
   "cell_type": "markdown",
   "metadata": {},
   "source": [
    "# 5. In the regex which created from the r&#39;(\\d\\d\\d)-(\\d\\d\\d-\\d\\d\\d\\d)&#39;, what does group zero cover? Group 2? Group 1?\n",
    "<br>\n",
    "<br>\n",
    "<i>\n",
    " Group 0 cover the full matched string </i><br>\n",
    "<i> Group 1 covers the (\\d\\d\\d) part of the matched string.</i><br>\n",
    "<i> Group 2 covers the (\\d\\d\\d-\\d\\d\\d\\d) part of the matched string. </i><br>"
   ]
  },
  {
   "cell_type": "code",
   "execution_count": 5,
   "metadata": {},
   "outputs": [
    {
     "name": "stdout",
     "output_type": "stream",
     "text": [
      "Group 0:  195-415-444\n",
      "Group 1:  195\n",
      "Group 2:  415-444\n"
     ]
    }
   ],
   "source": [
    "string = '195-415-4444'\n",
    "\n",
    "pat = re.compile(r'(\\d\\d\\d)-(\\d\\d\\d-\\d\\d\\d)')\n",
    "\n",
    "res = re.search(pat, string)\n",
    "\n",
    "print('Group 0: ', res.group(0))\n",
    "print('Group 1: ', res.group(1))\n",
    "print('Group 2: ', res.group(2))\n",
    "\n"
   ]
  },
  {
   "cell_type": "markdown",
   "metadata": {},
   "source": [
    "# 6. In standard expression syntax, parentheses and intervals have distinct meanings. How can you tell a regex that you want it to fit real parentheses and periods?\n",
    "<br>\n",
    "<br>\n",
    "<i> Using backslashes before the parentheses and periods, we can tell a regex to fit real parentheses and periods.</i>"
   ]
  },
  {
   "cell_type": "code",
   "execution_count": 6,
   "metadata": {},
   "outputs": [
    {
     "name": "stdout",
     "output_type": "stream",
     "text": [
      "Group 0:  195-415-(4444)\n",
      "Group 3:  (4444)\n"
     ]
    }
   ],
   "source": [
    "# example:\n",
    "\n",
    "string = '195-415-(4444)'\n",
    "\n",
    "pat = re.compile(r\"(\\d\\d\\d)-(\\d\\d\\d)-(\\(\\d\\d\\d\\d\\))\")\n",
    "\n",
    "res = pat.search(string)\n",
    "\n",
    "print('Group 0: ', res.group(0))\n",
    "\n",
    "print('Group 3: ', res.group(3))"
   ]
  },
  {
   "cell_type": "markdown",
   "metadata": {},
   "source": [
    "# 7. The findall() method returns a string list or a list of string tuples. What causes it to return one of the two options?\n",
    "\n",
    "\n",
    "\n",
    "If no groups or only one group is present in the matching pattern then a list of string is returned.<br>\n",
    "If multiple groups are present in the matching pattern then a list of string of tupples are returned."
   ]
  },
  {
   "cell_type": "code",
   "execution_count": 7,
   "metadata": {},
   "outputs": [
    {
     "name": "stdout",
     "output_type": "stream",
     "text": [
      "print only list of string:   ['195', '415', '4444']\n",
      "print list of string tuples  [('195', '415', '4444')]\n"
     ]
    }
   ],
   "source": [
    "\n",
    "string = '195-415-4444'\n",
    "\n",
    "pat = re.compile(r\"(\\d\\d\\d)-(\\d\\d\\d)-(\\d\\d\\d\\d)\")\n",
    "\n",
    "pat1 = re.compile(r'\\d+')\n",
    "\n",
    "\n",
    "abc = re.findall(pat, string)\n",
    "\n",
    "xyz = re.findall(pat1, string)\n",
    "\n",
    "print(\"print only list of string:  \", xyz)\n",
    "print(\"print list of string tuples \", abc)"
   ]
  },
  {
   "cell_type": "markdown",
   "metadata": {},
   "source": [
    "# 8. In standard expressions, what does the | character mean?\n",
    "\n",
    "\n",
    "This acts similar to an OR operator. \"X|Y\" in RE will either match X or Y.<br> If X is matched in the string then it will not look for matching Y."
   ]
  },
  {
   "cell_type": "code",
   "execution_count": 8,
   "metadata": {},
   "outputs": [
    {
     "name": "stdout",
     "output_type": "stream",
     "text": [
      "<re.Match object; span=(0, 5), match='under'>\n"
     ]
    }
   ],
   "source": [
    "string = \"under, understood, understand, underestimate\"\n",
    "pat = re.compile(r\"under|under[\\w+]\")\n",
    "\n",
    "abc = re.search(pat, string)\n",
    "\n",
    "print(abc)"
   ]
  },
  {
   "cell_type": "markdown",
   "metadata": {},
   "source": [
    "# 10. In regular expressions, what is the difference between the + and * characters?\n",
    "\n",
    "\n",
    "'+' denotes 1 or more occurances of the preceeding character.<br>\n",
    "'*' denotes 0 or more occurances of the preceeding character.<br>"
   ]
  },
  {
   "cell_type": "markdown",
   "metadata": {},
   "source": [
    "# 11. What is the difference between {4} and {4,5} in regular expression?\n",
    "\n",
    "\n",
    "{4} after a character matches the pattern with exactly 4 occurances of that character.\n",
    "<br>\n",
    "{4,5} after a character matches the pattern with atleast 4 to atmost 5 occurances of that character."
   ]
  },
  {
   "cell_type": "markdown",
   "metadata": {},
   "source": [
    "# 12. What do you mean by the \\d, \\w, and \\s shorthand character classes signify in regular expressions?\n",
    "\n",
    "<ul>\n",
    "    <li> \\d matches any numerical digit </li>\n",
    "    <li> \\w matches any alphanumeric character along with '_' </li>\n",
    "    <li> \\s matches any whitespace character including \\t, \\n etc </li>\n",
    " </ul>\n",
    "      \n",
    "        "
   ]
  },
  {
   "cell_type": "markdown",
   "metadata": {},
   "source": [
    "# 13. What do means by \\D, \\W, and \\S shorthand character classes signify in regular expressions?\n",
    "<ul>\n",
    "    <li> \\D matches any character other than numerical digit </li>\n",
    "    <li> \\W matches any character other than alphanumeric character along with '_' </li>\n",
    "    <li> \\S matches any character other than whitespace character </li>\n",
    " </ul>\n",
    "\n"
   ]
  },
  {
   "cell_type": "markdown",
   "metadata": {},
   "source": [
    "<h1> 14. What is the difference between .*? and .* ? </h1>\n",
    "\n",
    "\n",
    ".* : This matches as many characters as possible and when matching don't happens it backtracks. This is called Greedy matching.<br>\n",
    ".*? : This matches the smallest pattern possible. This is called non-greedy matching."
   ]
  },
  {
   "cell_type": "code",
   "execution_count": 9,
   "metadata": {},
   "outputs": [
    {
     "name": "stdout",
     "output_type": "stream",
     "text": [
      "['9009-9229-9119']\n",
      "['9009', '9229', '9119']\n"
     ]
    }
   ],
   "source": [
    "string = '9009-9229-9119'\n",
    "pat1 = re.compile(r'9.*9')\n",
    "pat2 = re.compile(r'9.*?9')\n",
    "\n",
    "\n",
    "mat1 = re.findall(pat1, string) #will return the whole string as will check the maximum possible for 9---9\n",
    "mat2 = re.findall(pat2, string) #will return smaller parts of the string\n",
    "\n",
    "print(mat1)\n",
    "print(mat2)"
   ]
  },
  {
   "cell_type": "markdown",
   "metadata": {},
   "source": [
    "# 15. What is the syntax for matching both numbers and lowercase letters with a character class?\n",
    "\n",
    "pat = re.compile(r'[0-9a-b]')\n",
    "\n",
    "mat = re.search(pat, 'ABCabc09')\n"
   ]
  },
  {
   "cell_type": "code",
   "execution_count": 10,
   "metadata": {},
   "outputs": [
    {
     "name": "stdout",
     "output_type": "stream",
     "text": [
      "<re.Match object; span=(3, 4), match='a'>\n"
     ]
    }
   ],
   "source": [
    "pat = re.compile(r'[0-9a-b]')\n",
    "\n",
    "mat = re.search(pat, 'ABCabc09')\n",
    "print(mat)"
   ]
  },
  {
   "cell_type": "markdown",
   "metadata": {},
   "source": [
    "# 16. What is the procedure for making a normal expression in regax case insensitive?\n",
    "\n",
    "\n",
    "by adding re.IGNORECASE flag in the method"
   ]
  },
  {
   "cell_type": "markdown",
   "metadata": {},
   "source": [
    "# 17. What does the . character normally match? What does it match if re.DOTALL is passed as 2nd argument in re.compile()?\n",
    "\n",
    "\n",
    "\n",
    ". character matches all the characters except the newline.\n",
    "<br>\n",
    "If re.DOTALL is passed as 2nd argument in re.compile then it will also include the newline character.\n"
   ]
  },
  {
   "cell_type": "markdown",
   "metadata": {},
   "source": [
    "# 18. If numReg = re.compile(r&#39;\\d+&#39;), what will numRegex.sub(&#39;X&#39;, &#39;11 drummers, 10 pipers, five rings, 4hen&#39;) return?\n",
    "\n",
    "\n",
    "It will replace all the all the numberical pattern with X.\n"
   ]
  },
  {
   "cell_type": "code",
   "execution_count": 11,
   "metadata": {},
   "outputs": [
    {
     "name": "stdout",
     "output_type": "stream",
     "text": [
      "X drummers, X pipers, five rings, Xhen\n"
     ]
    }
   ],
   "source": [
    "numReg = re.compile(r'\\d+')\n",
    "mat = numReg.sub('X', '11 drummers, 10 pipers, five rings, 4hen')\n",
    "\n",
    "print(mat)"
   ]
  },
  {
   "cell_type": "markdown",
   "metadata": {},
   "source": [
    "# 19. What does passing re.VERBOSE as the 2nd argument to re.compile() allow to do?\n",
    "\n",
    "This argument allows us to write regular expressions that are more readable by allowing us to visually separate logical sections of the pattern and add comments. Whitespace within the pattern is ignored, except when in a character class, or when preceded by an unescaped backslash, or within tokens like *?, (?: or (?P<...>. When a line contains a # that is not in a character class and is not preceded by an unescaped backslash, all characters from the leftmost such # through the end of the line are ignored."
   ]
  },
  {
   "cell_type": "markdown",
   "metadata": {},
   "source": [
    "# 20. How would you write a regex that match a number with comma for every three digits? It must match the given following:\n",
    "## &#39;42&#39;\n",
    "## &#39;1,234&#39;\n",
    "## &#39;6,368,745&#39;\n",
    "\n",
    "## but not the following:\n",
    "## &#39;12,34,567&#39; (which has only two digits between the commas)\n",
    "## &#39;1234&#39; (which lacks commas)"
   ]
  },
  {
   "cell_type": "code",
   "execution_count": 12,
   "metadata": {},
   "outputs": [
    {
     "name": "stdout",
     "output_type": "stream",
     "text": [
      "<re.Match object; span=(0, 2), match='42'>\n",
      "<re.Match object; span=(0, 5), match='1,234'>\n",
      "<re.Match object; span=(0, 9), match='6,368,745'>\n",
      "None\n",
      "None\n"
     ]
    }
   ],
   "source": [
    "pat = re.compile(r'^\\d{1,3}(,\\d{3})*$')\n",
    "\n",
    "lst = ['42', '1,234', '6,368,745', '12,34,567', '1234']\n",
    "\n",
    "for i in lst:\n",
    "    print(re.search(pat, i))"
   ]
  },
  {
   "cell_type": "markdown",
   "metadata": {},
   "source": [
    "# 21. How would you write a regex that matches the full name of someone whose last name is Watanabe? You can assume that the first name that comes before it will always be one word that begins with a capital letter. The regex must match the following:\n",
    "## &#39;Haruto Watanabe&#39;\n",
    "## &#39;Alice Watanabe&#39;\n",
    "## &#39;RoboCop Watanabe&#39;\n",
    "## but not the following:\n",
    "## &#39;haruto Watanabe&#39; (where the first name is not capitalized)\n",
    "## &#39;Mr. Watanabe&#39; (where the preceding word has a nonletter character)\n",
    "## &#39;Watanabe&#39; (which has no first name)\n",
    "## &#39;Haruto watanabe&#39; (where Watanabe is not capitalized)"
   ]
  },
  {
   "cell_type": "code",
   "execution_count": 13,
   "metadata": {},
   "outputs": [
    {
     "name": "stdout",
     "output_type": "stream",
     "text": [
      "<re.Match object; span=(0, 15), match='Haruto Watanabe'>\n",
      "<re.Match object; span=(0, 14), match='Alice Watanabe'>\n",
      "<re.Match object; span=(4, 16), match='Cop Watanabe'>\n",
      "None\n",
      "None\n",
      "None\n"
     ]
    }
   ],
   "source": [
    "pat = re.compile(r'[A-Z][a-z]+ Watanabe')\n",
    "\n",
    "lst = ['Haruto Watanabe', 'Alice Watanabe', 'RoboCop Watanabe', 'haruto Watanabe', 'Mr. Watanabe', 'Haruto watanabe']\n",
    "\n",
    "for i in lst:\n",
    "    print(re.search(pat, i))"
   ]
  },
  {
   "cell_type": "markdown",
   "metadata": {},
   "source": [
    "# 22. How would you write a regex that matches a sentence where the first word is either Alice, Bob, or Carol; the second word is either eats, pets, or throws; the third word is apples, cats, or baseballs; and the sentence ends with a period? This regex should be case-insensitive. It must match the following:\n",
    "## &#39;Alice eats apples.&#39;\n",
    "## &#39;Bob pets cats.&#39;\n",
    "## &#39;Carol throws baseballs.&#39;\n",
    "## &#39;Alice throws Apples.&#39;\n",
    "## &#39;BOB EATS CATS.&#39;\n",
    "## but not the following:\n",
    "## &#39;RoboCop eats apples.&#39;\n",
    "## &#39;ALICE THROWS FOOTBALLS.&#39;\n",
    "## &#39;Carol eats 7 cats.&#39;"
   ]
  },
  {
   "cell_type": "code",
   "execution_count": 14,
   "metadata": {},
   "outputs": [
    {
     "name": "stdout",
     "output_type": "stream",
     "text": [
      "<re.Match object; span=(0, 17), match='Alice eats apples'>\n",
      "<re.Match object; span=(0, 13), match='Bob pets cats'>\n",
      "<re.Match object; span=(0, 23), match='Carol throws baseballs.'>\n",
      "<re.Match object; span=(0, 19), match='Alice throws Apples'>\n",
      "<re.Match object; span=(0, 13), match='BOB EATS CATS'>\n",
      "None\n",
      "None\n",
      "None\n"
     ]
    }
   ],
   "source": [
    "pat = re.compile(r'(Alice|Bob|Carol) (eats|pets|throws) (apples|cats|baseballs\\.)', re.IGNORECASE)\n",
    "\n",
    "lst = ['Alice eats apples.', 'Bob pets cats.', 'Carol throws baseballs.', 'Alice throws Apples.', 'BOB EATS CATS.','RoboCop eats apples.', 'ALICE THROWS FOOTBALLS.', 'Carol eats 7 cats.']\n",
    "\n",
    "for i in lst:\n",
    "    print(re.search(pat, i))\n"
   ]
  }
 ],
 "metadata": {
  "kernelspec": {
   "display_name": "Python 3 (ipykernel)",
   "language": "python",
   "name": "python3"
  },
  "language_info": {
   "codemirror_mode": {
    "name": "ipython",
    "version": 3
   },
   "file_extension": ".py",
   "mimetype": "text/x-python",
   "name": "python",
   "nbconvert_exporter": "python",
   "pygments_lexer": "ipython3",
   "version": "3.9.7"
  }
 },
 "nbformat": 4,
 "nbformat_minor": 4
}
