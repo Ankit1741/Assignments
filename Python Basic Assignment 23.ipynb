{
 "cells": [
  {
   "cell_type": "markdown",
   "id": "f9c21a05",
   "metadata": {},
   "source": [
    "# 1. What is the result of the code, and why?\n",
    "## &gt;&gt;&gt; def func(a, b=6, c=8):\n",
    "##  print(a, b, c)\n",
    "## &gt;&gt;&gt; func(1, 2)\n",
    "\n",
    "Since value for c is not provided in func() call. Therefore it takes the default value of c provided in fumc() definition."
   ]
  },
  {
   "cell_type": "code",
   "execution_count": 1,
   "id": "68c6add4",
   "metadata": {},
   "outputs": [
    {
     "name": "stdout",
     "output_type": "stream",
     "text": [
      "1 2 8\n"
     ]
    }
   ],
   "source": [
    "def func(a,b=6,c=8):\n",
    "    print(a,b,c)\n",
    "    \n",
    "func(1,2)"
   ]
  },
  {
   "cell_type": "markdown",
   "id": "ede7cc9b",
   "metadata": {},
   "source": [
    "# 2. What is the result of this code, and why?\n",
    "## &gt;&gt;&gt; def func(a, b, c=5):\n",
    "## print(a, b, c)\n",
    "## &gt;&gt;&gt; func(1, c=3, b=2)\n",
    "\n",
    "In function call we are assigning the parameters using c=3, b=2 thus it prints the values in the sequence."
   ]
  },
  {
   "cell_type": "code",
   "execution_count": 2,
   "id": "1c7f4c2b",
   "metadata": {},
   "outputs": [
    {
     "name": "stdout",
     "output_type": "stream",
     "text": [
      "1 2 3\n"
     ]
    }
   ],
   "source": [
    "def func(a,b,c=5):\n",
    "    print(a,b,c)\n",
    "    \n",
    "func(1,c=3,b=2)"
   ]
  },
  {
   "cell_type": "markdown",
   "id": "f8c16203",
   "metadata": {},
   "source": [
    "# 3. How about this code: what is its result, and why?\n",
    "## &gt;&gt;&gt; def func(a, *pargs):\n",
    "## print(a, pargs)\n",
    "## &gt;&gt;&gt; func(1, 2, 3)\n",
    "\n",
    "*pargs allows to pass a variable number of arguments to the method."
   ]
  },
  {
   "cell_type": "code",
   "execution_count": 3,
   "id": "9b83046e",
   "metadata": {},
   "outputs": [
    {
     "name": "stdout",
     "output_type": "stream",
     "text": [
      "1 (2, 3)\n"
     ]
    }
   ],
   "source": [
    "def func(a, *pargs):\n",
    "    print(a, pargs)\n",
    "    \n",
    "func(1,2,3)"
   ]
  },
  {
   "cell_type": "markdown",
   "id": "01f4cd06",
   "metadata": {},
   "source": [
    "# 4. What does this code print, and why?\n",
    "## &gt;&gt;&gt; def func(a, **kargs):\n",
    "## print(a, kargs)\n",
    "## &gt;&gt;&gt; func(a=1, c=3, b=2)\n",
    "\n",
    "**kargs allows to pass a variable number of arguments in form of key value pairs to the method. "
   ]
  },
  {
   "cell_type": "code",
   "execution_count": 4,
   "id": "ac3b05c5",
   "metadata": {},
   "outputs": [
    {
     "name": "stdout",
     "output_type": "stream",
     "text": [
      "1 {'b': 2, 'c': 3}\n"
     ]
    }
   ],
   "source": [
    "def func(a, **kargs):\n",
    "    print(a, kargs)\n",
    "    \n",
    "func(a=1,b=2,c=3)"
   ]
  },
  {
   "cell_type": "markdown",
   "id": "feaa9046",
   "metadata": {},
   "source": [
    "# 5. What gets printed by this, and explain?\n",
    "## &gt;&gt;&gt; def func(a, b, c=8, d=5): print(a, b, c, d)\n",
    "## &gt;&gt;&gt; func(1, *(5, 6))\n",
    "\n",
    "it sets a=1 b=5 c=6 and d takes default parameter value that is 5 defined in the function definition."
   ]
  },
  {
   "cell_type": "code",
   "execution_count": 5,
   "id": "c40b448f",
   "metadata": {},
   "outputs": [
    {
     "name": "stdout",
     "output_type": "stream",
     "text": [
      "1 5 6 5\n"
     ]
    }
   ],
   "source": [
    "def func(a,b,c=8,d=5):\n",
    "    print(a,b,c,d)\n",
    "    \n",
    "func(1,*(5,6))"
   ]
  },
  {
   "cell_type": "markdown",
   "id": "9e8b6ecc",
   "metadata": {},
   "source": [
    "# 6. what is the result of this, and explain?\n",
    "## &gt;&gt;&gt; def func(a, b, c): a = 2; b[0] = &#39;x&#39;; c[&#39;a&#39;] = &#39;y&#39;\n",
    "## &gt;&gt;&gt; l=1; m=[1]; n={&#39;a&#39;:0}\n",
    "## &gt;&gt;&gt; func(l, m, n)\n",
    "\n",
    "## &gt;&gt;&gt; l, m, n\n",
    "\n",
    "A global list or dictionary can be changed even when used inside of a function, because they are mutable data types."
   ]
  },
  {
   "cell_type": "code",
   "execution_count": 6,
   "id": "fdf6068e",
   "metadata": {},
   "outputs": [
    {
     "data": {
      "text/plain": [
       "(1, ['x'], {'a': 'y'})"
      ]
     },
     "execution_count": 6,
     "metadata": {},
     "output_type": "execute_result"
    }
   ],
   "source": [
    "def func(a,b,c):\n",
    "    a=2\n",
    "    b[0]='x'\n",
    "    c['a'] = 'y'\n",
    "    \n",
    "l=1\n",
    "m=[1]\n",
    "n={'a':0}\n",
    "\n",
    "func(l,m,n)\n",
    "l,m,n"
   ]
  },
  {
   "cell_type": "code",
   "execution_count": null,
   "id": "4546eea7",
   "metadata": {},
   "outputs": [],
   "source": []
  }
 ],
 "metadata": {
  "kernelspec": {
   "display_name": "Python 3 (ipykernel)",
   "language": "python",
   "name": "python3"
  },
  "language_info": {
   "codemirror_mode": {
    "name": "ipython",
    "version": 3
   },
   "file_extension": ".py",
   "mimetype": "text/x-python",
   "name": "python",
   "nbconvert_exporter": "python",
   "pygments_lexer": "ipython3",
   "version": "3.9.7"
  }
 },
 "nbformat": 4,
 "nbformat_minor": 5
}
