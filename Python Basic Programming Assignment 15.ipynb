{
 "cells": [
  {
   "cell_type": "markdown",
   "id": "8964b418",
   "metadata": {},
   "source": [
    "# Question 1: Please write a program using generator to print the numbers which can be divisible by 5 and 7 between 0 and n in comma separated form while n is input by console.\n",
    "## Example:\n",
    "## If the following n is given as input to the program:\n",
    "## 100\n",
    "## Then, the output of the program should be:\n",
    "## 0,35,70"
   ]
  },
  {
   "cell_type": "code",
   "execution_count": 1,
   "id": "aab03eee",
   "metadata": {},
   "outputs": [
    {
     "name": "stdout",
     "output_type": "stream",
     "text": [
      "Enter the value: 100\n",
      "0,35,70,"
     ]
    }
   ],
   "source": [
    "n = int(input('Enter the value: '))\n",
    "\n",
    "def myGen(n):\n",
    "    for i in range(n+1):\n",
    "        if i%7==0 and i%5==0:\n",
    "            yield i\n",
    "            \n",
    "for i in myGen(n):\n",
    "    print(i, end=',')"
   ]
  },
  {
   "cell_type": "markdown",
   "id": "bdf826a5",
   "metadata": {},
   "source": [
    "# Question 2: Please write a program using generator to print the even numbers between 0 and n in comma separated form while n is input by console.\n",
    "## Example:\n",
    "## If the following n is given as input to the program:\n",
    "## 10\n",
    "## Then, the output of the program should be:\n",
    "## 0,2,4,6,8,10"
   ]
  },
  {
   "cell_type": "code",
   "execution_count": 3,
   "id": "25c788c9",
   "metadata": {},
   "outputs": [
    {
     "name": "stdout",
     "output_type": "stream",
     "text": [
      "Enter the value: 20\n",
      "0,2,4,6,8,10,12,14,16,18,20,"
     ]
    }
   ],
   "source": [
    "n = int(input('Enter the value: '))\n",
    "\n",
    "def myGen(n):\n",
    "    for i in range(n+1):\n",
    "        if i%2==0:\n",
    "            yield i\n",
    "            \n",
    "for i in myGen(n):\n",
    "    print(i, end=',')"
   ]
  },
  {
   "cell_type": "markdown",
   "id": "d17121d3",
   "metadata": {},
   "source": [
    "# Question 3: The Fibonacci Sequence is computed based on the following formula: \n",
    "## f(n)=0 if n=0 \n",
    "## f(n)=1 if n=1\n",
    "## f(n)=f(n-1)+f(n-2) if n&gt;1\n",
    "## Please write a program using list comprehension to print the Fibonacci Sequence in comma separated form with a given n input by console.\n",
    "## Example:\n",
    "## If the following n is given as input to the program:\n",
    "## 7\n",
    "\n",
    "## Then, the output of the program should be:\n",
    "## 0,1,1,2,3,5,8,13"
   ]
  },
  {
   "cell_type": "code",
   "execution_count": 8,
   "id": "249427a6",
   "metadata": {},
   "outputs": [
    {
     "name": "stdout",
     "output_type": "stream",
     "text": [
      "7\n",
      "[0, 1, 1, 2, 3, 5, 8, 13, 21]\n"
     ]
    }
   ],
   "source": [
    "n = int(input())\n",
    "\n",
    "mylist = [0,1]\n",
    "[mylist.append(mylist[-2]+mylist[-1]) for i in range(n)]\n",
    "print(mylist)"
   ]
  },
  {
   "cell_type": "markdown",
   "id": "b5b0ee85",
   "metadata": {},
   "source": [
    "# Question 4: Assuming that we have some email addresses in the &quot;username@companyname.com&quot; format, please write program to print the user name of a given email address. Both user names and company names are composed of letters only.\n",
    "## Example:\n",
    "## If the following email address is given as input to the program:\n",
    "## john@google.com\n",
    "## Then, the output of the program should be:\n",
    "## john"
   ]
  },
  {
   "cell_type": "code",
   "execution_count": 9,
   "id": "57a9f3c1",
   "metadata": {},
   "outputs": [
    {
     "name": "stdout",
     "output_type": "stream",
     "text": [
      "Enter the username: john@google.com\n",
      "Username : john\n"
     ]
    }
   ],
   "source": [
    "n = input(\"Enter the username: \")\n",
    "\n",
    "lst = n.split('@')\n",
    "\n",
    "print(\"Username :\", lst[0])"
   ]
  },
  {
   "cell_type": "markdown",
   "id": "3b932b2c",
   "metadata": {},
   "source": [
    "# Question 5: Define a class named Shape and its subclass Square. The Square class has an init function which takes a length as argument. Both classes have a area function which can print the area of the shape where Shape&#39;s area is 0 by default."
   ]
  },
  {
   "cell_type": "code",
   "execution_count": 10,
   "id": "70164498",
   "metadata": {},
   "outputs": [
    {
     "data": {
      "text/plain": [
       "25"
      ]
     },
     "execution_count": 10,
     "metadata": {},
     "output_type": "execute_result"
    }
   ],
   "source": [
    "class Shape:\n",
    "    def area(self):\n",
    "        return 0\n",
    "    \n",
    "class Square(Shape):\n",
    "    def __init__(self, l):\n",
    "        self.length = l\n",
    "        \n",
    "    def area(self):\n",
    "        return self.length*self.length\n",
    "    \n",
    "a = Square(5)\n",
    "\n",
    "a.area()"
   ]
  },
  {
   "cell_type": "code",
   "execution_count": null,
   "id": "fb7055e3",
   "metadata": {},
   "outputs": [],
   "source": []
  },
  {
   "cell_type": "code",
   "execution_count": null,
   "id": "fcd3ba45",
   "metadata": {},
   "outputs": [],
   "source": []
  }
 ],
 "metadata": {
  "kernelspec": {
   "display_name": "Python 3 (ipykernel)",
   "language": "python",
   "name": "python3"
  },
  "language_info": {
   "codemirror_mode": {
    "name": "ipython",
    "version": 3
   },
   "file_extension": ".py",
   "mimetype": "text/x-python",
   "name": "python",
   "nbconvert_exporter": "python",
   "pygments_lexer": "ipython3",
   "version": "3.9.7"
  }
 },
 "nbformat": 4,
 "nbformat_minor": 5
}
