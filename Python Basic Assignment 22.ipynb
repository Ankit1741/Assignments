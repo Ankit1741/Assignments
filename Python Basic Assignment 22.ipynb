{
 "cells": [
  {
   "cell_type": "markdown",
   "id": "0ff7d425",
   "metadata": {},
   "source": [
    "# 1. What is the result of the code, and explain?\n",
    "\n",
    "## &gt;&gt;&gt; X = &#39;iNeuron&#39;\n",
    "## &gt;&gt;&gt; def func():\n",
    "## print(X)\n",
    "\n",
    "## &gt;&gt;&gt; func()\n",
    "\n",
    "Since x is a global variable, its value will be accessible to the method func()."
   ]
  },
  {
   "cell_type": "code",
   "execution_count": 1,
   "id": "b199ab57",
   "metadata": {},
   "outputs": [
    {
     "name": "stdout",
     "output_type": "stream",
     "text": [
      "iNeuron\n"
     ]
    }
   ],
   "source": [
    "x = 'iNeuron'\n",
    "\n",
    "def func():\n",
    "    print(x)\n",
    "    \n",
    "func()"
   ]
  },
  {
   "cell_type": "markdown",
   "id": "7ecaa0b8",
   "metadata": {},
   "source": [
    "# 2. What is the result of the code, and explain?\n",
    "\n",
    "## &gt;&gt;&gt; X = &#39;iNeuron&#39;\n",
    "## &gt;&gt;&gt; def func():\n",
    "## X = &#39;NI!&#39;\n",
    "\n",
    "## &gt;&gt;&gt; func()\n",
    "## &gt;&gt;&gt; print(X)\n",
    "\n",
    "It will print 'iNeuron', because the method func() will change the value of x in its local scope and not the global scope."
   ]
  },
  {
   "cell_type": "code",
   "execution_count": 2,
   "id": "e04b7568",
   "metadata": {},
   "outputs": [
    {
     "name": "stdout",
     "output_type": "stream",
     "text": [
      "iNeuron\n"
     ]
    }
   ],
   "source": [
    "x = 'iNeuron'\n",
    "\n",
    "def func():\n",
    "    x='NI!'\n",
    "    \n",
    "func()\n",
    "\n",
    "print(x)"
   ]
  },
  {
   "cell_type": "markdown",
   "id": "90229c87",
   "metadata": {},
   "source": [
    "# 3. What does this code print, and why?\n",
    "\n",
    "## &gt;&gt;&gt; X = &#39;iNeuron&#39;\n",
    "## &gt;&gt;&gt; def func():\n",
    "## X = &#39;NI&#39;\n",
    "## print(X)\n",
    "\n",
    "## &gt;&gt;&gt; func()\n",
    "## &gt;&gt;&gt; print(X)\n",
    "\n",
    "The print method in the method func() will print 'NI!' and the Print method in global scope will print 'iNeuron' because in global scope x stores 'iNeuron' but in local scope it stores 'NI!'."
   ]
  },
  {
   "cell_type": "code",
   "execution_count": 3,
   "id": "4bebd160",
   "metadata": {},
   "outputs": [
    {
     "name": "stdout",
     "output_type": "stream",
     "text": [
      "NI!\n",
      "iNeuron\n"
     ]
    }
   ],
   "source": [
    "x = 'iNeuron'\n",
    "\n",
    "def func():\n",
    "    x='NI!'\n",
    "    print(x)\n",
    "    \n",
    "func()\n",
    "\n",
    "print(x)"
   ]
  },
  {
   "cell_type": "markdown",
   "id": "fb2c994d",
   "metadata": {},
   "source": [
    "# 4. What output does this code produce? Why?\n",
    "\n",
    "## &gt;&gt;&gt; X = &#39;iNeuron&#39;\n",
    "## &gt;&gt;&gt; def func():\n",
    "## global X\n",
    "## X = &#39;NI&#39;\n",
    "\n",
    "## &gt;&gt;&gt; func()\n",
    "## &gt;&gt;&gt; print(X)\n",
    "\n",
    "the global keyword allows make changes to the variable in a local context."
   ]
  },
  {
   "cell_type": "code",
   "execution_count": 4,
   "id": "a4a5e22f",
   "metadata": {},
   "outputs": [
    {
     "name": "stdout",
     "output_type": "stream",
     "text": [
      "NI\n"
     ]
    }
   ],
   "source": [
    "X = 'iNeuron'\n",
    "def func():\n",
    "    global X\n",
    "    X = 'NI'\n",
    "func()\n",
    "print(X)"
   ]
  },
  {
   "cell_type": "markdown",
   "id": "8faabbcd",
   "metadata": {},
   "source": [
    "# 5. What about this code—what’s the output, and why?\n",
    "\n",
    "## &gt;&gt;&gt; X = &#39;iNeuron&#39;\n",
    "## &gt;&gt;&gt; def func():\n",
    "## X = &#39;NI&#39;\n",
    "## def nested():\n",
    "## print(X)\n",
    "## nested()\n",
    "\n",
    "## &gt;&gt;&gt; func()\n",
    "## &gt;&gt;&gt; X\n",
    "\n",
    "Since nested() is part of func() method, thus its scope is local scope of func() and it will print 'NI!'."
   ]
  },
  {
   "cell_type": "code",
   "execution_count": 5,
   "id": "79778643",
   "metadata": {},
   "outputs": [
    {
     "name": "stdout",
     "output_type": "stream",
     "text": [
      "NI!\n",
      "iNeuron\n"
     ]
    }
   ],
   "source": [
    "x = 'iNeuron'\n",
    "\n",
    "def func():\n",
    "    x='NI!'\n",
    "    \n",
    "    def nested():\n",
    "        print(x)\n",
    "    nested()\n",
    "    \n",
    "func()\n",
    "\n",
    "print(x)"
   ]
  },
  {
   "cell_type": "markdown",
   "id": "febb5e28",
   "metadata": {},
   "source": [
    "# 6. How about this code: what is its output in Python 3, and explain?\n",
    "\n",
    "## &gt;&gt;&gt; def func():\n",
    "## X = &#39;NI&#39;\n",
    "## def nested():\n",
    "## nonlocal X\n",
    "## X = &#39;Spam&#39;\n",
    "## nested()\n",
    "## print(X)\n",
    "\n",
    "## &gt;&gt;&gt; func()\n",
    "\n",
    "The nonlocal keyword makes the variable 'x' neither in the local nor the global scope."
   ]
  },
  {
   "cell_type": "code",
   "execution_count": 6,
   "id": "20559bb6",
   "metadata": {},
   "outputs": [
    {
     "name": "stdout",
     "output_type": "stream",
     "text": [
      "Spam\n"
     ]
    }
   ],
   "source": [
    "def func():\n",
    "    x = 'NI'\n",
    "    def nested():\n",
    "        nonlocal x\n",
    "        x = 'Spam'\n",
    "    nested()\n",
    "    print(x)\n",
    "func()"
   ]
  },
  {
   "cell_type": "code",
   "execution_count": null,
   "id": "8934e587",
   "metadata": {},
   "outputs": [],
   "source": []
  },
  {
   "cell_type": "code",
   "execution_count": null,
   "id": "d357faf5",
   "metadata": {},
   "outputs": [],
   "source": []
  }
 ],
 "metadata": {
  "kernelspec": {
   "display_name": "Python 3 (ipykernel)",
   "language": "python",
   "name": "python3"
  },
  "language_info": {
   "codemirror_mode": {
    "name": "ipython",
    "version": 3
   },
   "file_extension": ".py",
   "mimetype": "text/x-python",
   "name": "python",
   "nbconvert_exporter": "python",
   "pygments_lexer": "ipython3",
   "version": "3.9.7"
  }
 },
 "nbformat": 4,
 "nbformat_minor": 5
}
