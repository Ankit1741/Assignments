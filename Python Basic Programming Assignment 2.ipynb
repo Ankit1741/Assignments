{
 "cells": [
  {
   "cell_type": "markdown",
   "metadata": {},
   "source": [
    "# 1. Write a Python program to convert kilometers to miles?"
   ]
  },
  {
   "cell_type": "code",
   "execution_count": 1,
   "metadata": {},
   "outputs": [
    {
     "name": "stdout",
     "output_type": "stream",
     "text": [
      "Enter the km: 6.2\n",
      "The converted value of km to miles is:  3.85250139164\n"
     ]
    }
   ],
   "source": [
    "# Answer 1:\n",
    "\n",
    "k = float(input(\"Enter the km: \"))\n",
    "\n",
    "mi = k*0.6213711922\n",
    "\n",
    "print(\"The converted value of km to miles is: \", mi)\n"
   ]
  },
  {
   "cell_type": "markdown",
   "metadata": {},
   "source": [
    "# 2. Write a Python program to convert Celsius to Fahrenheit?"
   ]
  },
  {
   "cell_type": "code",
   "execution_count": 2,
   "metadata": {},
   "outputs": [
    {
     "name": "stdout",
     "output_type": "stream",
     "text": [
      "Enter temperature in celcius: 36.8\n",
      "The temperature in farenheit is:  98.24\n"
     ]
    }
   ],
   "source": [
    "c = float(input(\"Enter temperature in celcius: \"))\n",
    "\n",
    "f = (c*1.8)+32\n",
    "\n",
    "print(\"The temperature in farenheit is: \", f)"
   ]
  },
  {
   "cell_type": "markdown",
   "metadata": {},
   "source": [
    "# 3. Write a Python program to display calendar?"
   ]
  },
  {
   "cell_type": "code",
   "execution_count": 3,
   "metadata": {},
   "outputs": [
    {
     "name": "stdout",
     "output_type": "stream",
     "text": [
      "Enter the month value: 3\n",
      "Enter the year value: 2022\n",
      "\n",
      "\n",
      "     March 2022\n",
      "Mo Tu We Th Fr Sa Su\n",
      "    1  2  3  4  5  6\n",
      " 7  8  9 10 11 12 13\n",
      "14 15 16 17 18 19 20\n",
      "21 22 23 24 25 26 27\n",
      "28 29 30 31\n",
      "\n"
     ]
    }
   ],
   "source": [
    "import calendar\n",
    "\n",
    "month = int(input(\"Enter the month value: \"))\n",
    "year = int(input(\"Enter the year value: \"))\n",
    "print('\\n')\n",
    "print(calendar.month(year, month))"
   ]
  },
  {
   "cell_type": "markdown",
   "metadata": {},
   "source": [
    "# 4. Write a Python program to solve quadratic equation?"
   ]
  },
  {
   "cell_type": "code",
   "execution_count": 4,
   "metadata": {},
   "outputs": [
    {
     "name": "stdout",
     "output_type": "stream",
     "text": [
      "The roots are:  1.0 1.0\n"
     ]
    }
   ],
   "source": [
    "# Answer 4\n",
    "\n",
    "def quad(a, b, c):  # a,b,c are coefficients of quadratic equation\n",
    "    \n",
    "    d = (b*b)-4*a*c\n",
    "    if d>=0:\n",
    "        alpha = ((0-b) - (d**0.5))/2*a\n",
    "        beta = ((0-b) + (d**0.5))/2*a\n",
    "        print(\"The roots are: \", alpha, beta)\n",
    "    else:\n",
    "        print(\"The roots are imaginary.\")\n",
    "    \n",
    "    \n",
    "quad(1, -2, 1)      "
   ]
  },
  {
   "cell_type": "markdown",
   "metadata": {},
   "source": [
    "# 5. Write a Python program to swap two variables without temp variable?"
   ]
  },
  {
   "cell_type": "code",
   "execution_count": 5,
   "metadata": {},
   "outputs": [
    {
     "name": "stdout",
     "output_type": "stream",
     "text": [
      "value of a:  5\n",
      "value of b:  4\n",
      "value of a after method 1: 4\n",
      "value of b after method 1: 5\n",
      "value of a after method 2: 4\n",
      "value of b after method 2: 5\n"
     ]
    }
   ],
   "source": [
    "# Answer 5:\n",
    "\n",
    "a = 5\n",
    "b = 4\n",
    "print(\"value of a: \", a)\n",
    "print(\"value of b: \", b)\n",
    "\n",
    "# method 1\n",
    "a = a+b\n",
    "b = a-b\n",
    "a = a-b\n",
    "\n",
    "print(\"value of a after method 1:\", a)\n",
    "print(\"value of b after method 1:\", b)\n",
    "\n",
    "\n",
    "# method 2\n",
    "a = 5\n",
    "b = 4\n",
    "a, b = b,a\n",
    "print(\"value of a after method 2:\", a)\n",
    "print(\"value of b after method 2:\", b)"
   ]
  },
  {
   "cell_type": "code",
   "execution_count": null,
   "metadata": {},
   "outputs": [],
   "source": []
  },
  {
   "cell_type": "code",
   "execution_count": null,
   "metadata": {},
   "outputs": [],
   "source": []
  },
  {
   "cell_type": "code",
   "execution_count": null,
   "metadata": {},
   "outputs": [],
   "source": []
  },
  {
   "cell_type": "code",
   "execution_count": null,
   "metadata": {},
   "outputs": [],
   "source": []
  },
  {
   "cell_type": "code",
   "execution_count": null,
   "metadata": {},
   "outputs": [],
   "source": []
  }
 ],
 "metadata": {
  "kernelspec": {
   "display_name": "Python 3",
   "language": "python",
   "name": "python3"
  },
  "language_info": {
   "codemirror_mode": {
    "name": "ipython",
    "version": 3
   },
   "file_extension": ".py",
   "mimetype": "text/x-python",
   "name": "python",
   "nbconvert_exporter": "python",
   "pygments_lexer": "ipython3",
   "version": "3.6.10"
  }
 },
 "nbformat": 4,
 "nbformat_minor": 4
}
