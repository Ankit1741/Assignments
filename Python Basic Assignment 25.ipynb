{
 "cells": [
  {
   "cell_type": "markdown",
   "id": "e4dfc67c",
   "metadata": {},
   "source": [
    "# 1) What is the difference between enclosing a list comprehension in square brackets and parentheses?\n",
    "\n",
    "In Square brackets a comprehension will return a list.\n",
    "<br>\n",
    "In parentheses, a comprehension will return a generator."
   ]
  },
  {
   "cell_type": "markdown",
   "id": "948e3997",
   "metadata": {},
   "source": [
    "# 2) What is the relationship between generators and iterators?\n",
    "\n",
    "Both can be used in for loops to return a sequence."
   ]
  },
  {
   "cell_type": "markdown",
   "id": "6f78eb02",
   "metadata": {},
   "source": [
    "# 3) What are the signs that a function is a generator function?\n",
    "\n",
    "It will use a yield keyword instead of return."
   ]
  },
  {
   "cell_type": "markdown",
   "id": "f9e42964",
   "metadata": {},
   "source": [
    "# 4) What is the purpose of a yield statement?\n",
    "\n",
    "The yield statement is used to make a generator functions. It retains the state and let function start executing from where it was left off."
   ]
  },
  {
   "cell_type": "markdown",
   "id": "5b9026af",
   "metadata": {},
   "source": [
    "# 5) What is the relationship between map calls and list comprehensions? Make a comparison and contrast between the two.\n",
    "\n",
    "both are used apply some operations over the iterables.\n",
    "\n",
    "List comprehension is concise and can apply filtering to iterables. But map() cannot apply filter."
   ]
  },
  {
   "cell_type": "code",
   "execution_count": null,
   "id": "65b67764",
   "metadata": {},
   "outputs": [],
   "source": []
  }
 ],
 "metadata": {
  "kernelspec": {
   "display_name": "Python 3 (ipykernel)",
   "language": "python",
   "name": "python3"
  },
  "language_info": {
   "codemirror_mode": {
    "name": "ipython",
    "version": 3
   },
   "file_extension": ".py",
   "mimetype": "text/x-python",
   "name": "python",
   "nbconvert_exporter": "python",
   "pygments_lexer": "ipython3",
   "version": "3.9.7"
  }
 },
 "nbformat": 4,
 "nbformat_minor": 5
}
