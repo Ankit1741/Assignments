{
 "cells": [
  {
   "cell_type": "markdown",
   "id": "b52e9fc7",
   "metadata": {},
   "source": [
    "# 1. What advantages do Excel spreadsheets have over CSV spreadsheets?\n",
    "\n",
    "Excell spreadsheets has the following advantages over CSV spreadsheets :- \n",
    "<ul>\n",
    "    <li>Excel spreadsheets can have data types other than string.</li>\n",
    "    <li>We can insert images and charts in Excel.</li>\n",
    "    <li>Excel cells can have different fonts, colours and style settings.</li>"
   ]
  },
  {
   "cell_type": "markdown",
   "id": "ff0fa0e8",
   "metadata": {},
   "source": [
    "# 2.What do you pass to csv.reader() and csv.writer() to create reader and writer objects?\n",
    "\n",
    "A file object is passed to csv.reader() and csv.writer() obtained from open()."
   ]
  },
  {
   "cell_type": "markdown",
   "id": "2ad247ef",
   "metadata": {},
   "source": [
    "# 3. What modes do File objects for reader and writer objects need to be opened in?\n",
    "\n",
    "File objects for reader objects need to be opened in 'rb' mode.\n",
    "<br>\n",
    "File objects for writer objects need to be opened in 'wb' mode."
   ]
  },
  {
   "cell_type": "markdown",
   "id": "a93751fd",
   "metadata": {},
   "source": [
    "# 4. What method takes a list argument and writes it to a CSV file?\n",
    "\n",
    "writerow() method takes a list argument and writes it to a CSV file."
   ]
  },
  {
   "cell_type": "markdown",
   "id": "c438138d",
   "metadata": {},
   "source": [
    "# 5. What do the keyword arguments delimiter and line terminator do?\n",
    "\n",
    "Delimiter changes the string used to separate cells in a row.\n",
    "<br>\n",
    "LineTerminator changes the string used to separate rows."
   ]
  },
  {
   "cell_type": "markdown",
   "id": "56ffb310",
   "metadata": {},
   "source": [
    "# 6. What function takes a string of JSON data and returns a Python data structure?\n",
    "\n",
    "json.loads() method akes a string of JSON data and returns a Python data structure"
   ]
  },
  {
   "cell_type": "markdown",
   "id": "705b3127",
   "metadata": {},
   "source": [
    "# 7. What function takes a Python data structure and returns a string of JSON data?\n",
    "\n",
    "json.dumps() method takes a Python data structure and returns a string of JSON data."
   ]
  },
  {
   "cell_type": "code",
   "execution_count": null,
   "id": "14ba25fd",
   "metadata": {},
   "outputs": [],
   "source": []
  }
 ],
 "metadata": {
  "kernelspec": {
   "display_name": "Python 3 (ipykernel)",
   "language": "python",
   "name": "python3"
  },
  "language_info": {
   "codemirror_mode": {
    "name": "ipython",
    "version": 3
   },
   "file_extension": ".py",
   "mimetype": "text/x-python",
   "name": "python",
   "nbconvert_exporter": "python",
   "pygments_lexer": "ipython3",
   "version": "3.9.7"
  }
 },
 "nbformat": 4,
 "nbformat_minor": 5
}
