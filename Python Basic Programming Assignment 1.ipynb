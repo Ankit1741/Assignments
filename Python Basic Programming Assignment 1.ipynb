{
 "cells": [
  {
   "cell_type": "markdown",
   "metadata": {},
   "source": [
    "# 1. Write a Python program to print &quot;Hello Python&quot;?"
   ]
  },
  {
   "cell_type": "code",
   "execution_count": 1,
   "metadata": {},
   "outputs": [
    {
     "name": "stdout",
     "output_type": "stream",
     "text": [
      "Hello Python\n"
     ]
    }
   ],
   "source": [
    "## Answer 1:\n",
    "print(\"Hello Python\")"
   ]
  },
  {
   "cell_type": "markdown",
   "metadata": {},
   "source": [
    "# 2. Write a Python program to do arithmetical operations addition and division.?"
   ]
  },
  {
   "cell_type": "code",
   "execution_count": 2,
   "metadata": {},
   "outputs": [
    {
     "name": "stdout",
     "output_type": "stream",
     "text": [
      "Sum of a and b is:  50\n",
      "Division of a and b is:  9.0\n"
     ]
    }
   ],
   "source": [
    "## Answer 2:\n",
    "a = 5\n",
    "b = 45\n",
    "\n",
    "#addition operation:\n",
    "add = a+b\n",
    "print(\"Sum of a and b is: \", add)\n",
    "div = b/a\n",
    "print(\"Division of a and b is: \", div)"
   ]
  },
  {
   "cell_type": "markdown",
   "metadata": {},
   "source": [
    "# 3. Write a Python program to find the area of a triangle?"
   ]
  },
  {
   "cell_type": "code",
   "execution_count": 3,
   "metadata": {},
   "outputs": [
    {
     "name": "stdout",
     "output_type": "stream",
     "text": [
      "input the side of triangle4\n",
      "input the side of triangle5\n",
      "input the side of triangle6\n",
      "Area of triangle with sides a,b and c is:  9.921567416492215\n"
     ]
    }
   ],
   "source": [
    "# Answer 3:\n",
    "\n",
    "# sides of triangle:\n",
    "l = []\n",
    "for i in range(3):\n",
    "    x = int(input('input the side of triangle'))\n",
    "    l.append(x)\n",
    "\n",
    "    \n",
    "    \n",
    "a = l[0]\n",
    "b = l[1]\n",
    "c = l[2]\n",
    "\n",
    "s = (a+b+c)/2  #semi-perimeter\n",
    "\n",
    "area = (s*(s-a)*(s-b)*(s-c))**0.5 ##heron's formula\n",
    "\n",
    "print(\"Area of triangle with sides a,b and c is: \", area)\n"
   ]
  },
  {
   "cell_type": "markdown",
   "metadata": {},
   "source": [
    "# 4. Write a Python program to swap two variables?"
   ]
  },
  {
   "cell_type": "code",
   "execution_count": 4,
   "metadata": {},
   "outputs": [
    {
     "name": "stdout",
     "output_type": "stream",
     "text": [
      "value of a:  4\n",
      "value of b:  5\n",
      "value of a after swap:  5\n",
      "value of b after swap:  4\n"
     ]
    }
   ],
   "source": [
    "# Answer 4\n",
    "\n",
    "a = 4\n",
    "b = 5\n",
    "\n",
    "print(\"value of a: \", a)\n",
    "print(\"value of b: \", b)\n",
    "\n",
    "a, b = b, a\n",
    "\n",
    "print(\"value of a after swap: \", a)\n",
    "print(\"value of b after swap: \", b)"
   ]
  },
  {
   "cell_type": "markdown",
   "metadata": {},
   "source": [
    "# 5. Write a Python program to generate a random number?"
   ]
  },
  {
   "cell_type": "code",
   "execution_count": 5,
   "metadata": {},
   "outputs": [
    {
     "name": "stdout",
     "output_type": "stream",
     "text": [
      "1\n"
     ]
    }
   ],
   "source": [
    "import random as r\n",
    "\n",
    "a = r.randint(0,100) #returns a number between 0-100\n",
    "print(a)"
   ]
  },
  {
   "cell_type": "code",
   "execution_count": null,
   "metadata": {},
   "outputs": [],
   "source": []
  },
  {
   "cell_type": "code",
   "execution_count": null,
   "metadata": {},
   "outputs": [],
   "source": []
  }
 ],
 "metadata": {
  "kernelspec": {
   "display_name": "Python 3",
   "language": "python",
   "name": "python3"
  },
  "language_info": {
   "codemirror_mode": {
    "name": "ipython",
    "version": 3
   },
   "file_extension": ".py",
   "mimetype": "text/x-python",
   "name": "python",
   "nbconvert_exporter": "python",
   "pygments_lexer": "ipython3",
   "version": "3.6.10"
  }
 },
 "nbformat": 4,
 "nbformat_minor": 4
}
