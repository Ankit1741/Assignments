{
 "cells": [
  {
   "cell_type": "markdown",
   "id": "e66f761a",
   "metadata": {},
   "source": [
    "# 1. What is the relationship between def statements and lambda expressions ?\n",
    "\n",
    "Both are used to define a method in python. def is used to define a normal method while lambda defines an anonymous method."
   ]
  },
  {
   "cell_type": "markdown",
   "id": "99c6aed7",
   "metadata": {},
   "source": [
    "# 2. What is the benefit of lambda?\n",
    "\n",
    "It makes the code more clear and neat. <br> No additonal variables are used."
   ]
  },
  {
   "cell_type": "markdown",
   "id": "2e4dcbab",
   "metadata": {},
   "source": [
    "# 3. Compare and contrast map, filter, and reduce.\n",
    "\n",
    "map(): It takes a function and an iterator as arguments and applies the function to each iterables of the iterator.<br>\n",
    "filter(): It is used to generate an output list of values that return true when the function is called.\n",
    "reduce(): It applies a provided function to ‘iterables’ and returns a single value, as the name implies."
   ]
  },
  {
   "cell_type": "markdown",
   "id": "9a358299",
   "metadata": {},
   "source": [
    "# 4. What are function annotations, and how are they used?\n",
    "\n",
    "Function annotations are arbitrary python expressions that are associated with various part of functions. These expressions are evaluated at compile time and have no life in python’s runtime environment. Python does not attach any meaning to these annotations. They take life when interpreted by third party libraries, for example, mypy"
   ]
  },
  {
   "cell_type": "markdown",
   "id": "5ff5fad1",
   "metadata": {},
   "source": [
    "# 5. What are recursive functions, and how are they used?\n",
    "\n",
    "Calling the function inside the same function is called recursive functions.\n",
    "\n",
    "ex: \n",
    "\n",
    "def add(a,b):<br>\n",
    "    return add(a+b, b)\n",
    "    "
   ]
  },
  {
   "cell_type": "markdown",
   "id": "aca3dc16",
   "metadata": {},
   "source": [
    "# 6. What are some general design guidelines for coding functions?\n",
    "\n",
    "Use 4-space indentation and no tabs.<br>\n",
    "Use docstrings.<br>\n",
    "Use of regular and updated comments are valuable to both the coders and users<br>\n"
   ]
  },
  {
   "cell_type": "markdown",
   "id": "6fe679cf",
   "metadata": {},
   "source": [
    "# 7. Name three or more ways that functions can communicate results to a caller.\n",
    "\n",
    "using print(result). <br>\n",
    "using return result. <br>\n",
    "using yield result."
   ]
  },
  {
   "cell_type": "code",
   "execution_count": null,
   "id": "7b53f38f",
   "metadata": {},
   "outputs": [],
   "source": []
  }
 ],
 "metadata": {
  "kernelspec": {
   "display_name": "Python 3 (ipykernel)",
   "language": "python",
   "name": "python3"
  },
  "language_info": {
   "codemirror_mode": {
    "name": "ipython",
    "version": 3
   },
   "file_extension": ".py",
   "mimetype": "text/x-python",
   "name": "python",
   "nbconvert_exporter": "python",
   "pygments_lexer": "ipython3",
   "version": "3.9.7"
  }
 },
 "nbformat": 4,
 "nbformat_minor": 5
}
