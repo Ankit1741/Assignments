{
 "cells": [
  {
   "cell_type": "markdown",
   "metadata": {},
   "source": [
    "# 1. Write a Python program to Extract Unique values dictionary values?"
   ]
  },
  {
   "cell_type": "code",
   "execution_count": 9,
   "metadata": {},
   "outputs": [
    {
     "data": {
      "text/plain": [
       "{1, 2, 3, 4}"
      ]
     },
     "execution_count": 9,
     "metadata": {},
     "output_type": "execute_result"
    }
   ],
   "source": [
    "def uniq_value(dic):\n",
    "    l = []\n",
    "    for i in dic.values():\n",
    "        l.append(i)\n",
    "    \n",
    "    s = set(l)\n",
    "    return s\n",
    "\n",
    "\n",
    "dic = {'a':1, 'b':2, 'c':3, 'd':4, 'e':4, 'f':2}\n",
    "\n",
    "uniq_value(dic)"
   ]
  },
  {
   "cell_type": "markdown",
   "metadata": {},
   "source": [
    "# 2. Write a Python program to find the sum of all items in a dictionary?"
   ]
  },
  {
   "cell_type": "code",
   "execution_count": 10,
   "metadata": {},
   "outputs": [
    {
     "data": {
      "text/plain": [
       "16"
      ]
     },
     "execution_count": 10,
     "metadata": {},
     "output_type": "execute_result"
    }
   ],
   "source": [
    "def sum_value(dic):\n",
    "    summ = 0\n",
    "    for i in dic.values():\n",
    "        summ+=i\n",
    " \n",
    "    return summ\n",
    "\n",
    "\n",
    "dic = {'a':1, 'b':2, 'c':3, 'd':4, 'e':4, 'f':2}\n",
    "\n",
    "sum_value(dic)"
   ]
  },
  {
   "cell_type": "markdown",
   "metadata": {},
   "source": [
    "# 3. Write a Python program to Merging two Dictionaries?"
   ]
  },
  {
   "cell_type": "code",
   "execution_count": 11,
   "metadata": {},
   "outputs": [
    {
     "data": {
      "text/plain": [
       "{'a': 1,\n",
       " 'b': 2,\n",
       " 'c': 3,\n",
       " 'd': 4,\n",
       " 'e': 4,\n",
       " 'f': 2,\n",
       " 'g': 2,\n",
       " 'h': 5,\n",
       " 'i': 7,\n",
       " 'j': 8}"
      ]
     },
     "execution_count": 11,
     "metadata": {},
     "output_type": "execute_result"
    }
   ],
   "source": [
    "dic1 = {'a':1, 'b':2, 'c':3, 'd':4, 'e':4, 'f':2}\n",
    "dic2 = {'g':2, 'h':5, 'i':7, 'j':8}\n",
    "\n",
    "dic1.update(dic2)\n",
    "\n",
    "dic1"
   ]
  },
  {
   "cell_type": "markdown",
   "metadata": {},
   "source": [
    "# 4. Write a Python program to convert key-values list to flat dictionary?"
   ]
  },
  {
   "cell_type": "code",
   "execution_count": 12,
   "metadata": {},
   "outputs": [
    {
     "data": {
      "text/plain": [
       "{'a': 1, 'b': 2, 'c': 3, 'd': 4}"
      ]
     },
     "execution_count": 12,
     "metadata": {},
     "output_type": "execute_result"
    }
   ],
   "source": [
    "kl = ['a', 'b', 'c', 'd']\n",
    "vl = [1,2,3,4]\n",
    "\n",
    "dic3 = dict(zip(kl, vl))\n",
    "dic3"
   ]
  },
  {
   "cell_type": "markdown",
   "metadata": {},
   "source": [
    "# 5. Write a Python program to insertion at the beginning in OrderedDict?"
   ]
  },
  {
   "cell_type": "code",
   "execution_count": 13,
   "metadata": {},
   "outputs": [
    {
     "data": {
      "text/plain": [
       "OrderedDict([('d', 4), ('a', 1), ('b', 2), ('c', 3)])"
      ]
     },
     "execution_count": 13,
     "metadata": {},
     "output_type": "execute_result"
    }
   ],
   "source": [
    "from collections import OrderedDict as od\n",
    "\n",
    "dic4 = od([('a',1), ('b', 2), ('c',3)])\n",
    "dic4.update({'d':4})\n",
    "\n",
    "dic4.move_to_end('d', last=False)\n",
    "\n",
    "dic4\n"
   ]
  },
  {
   "cell_type": "markdown",
   "metadata": {},
   "source": [
    "# 6. Write a Python program to check order of character in string using OrderedDict()?"
   ]
  },
  {
   "cell_type": "code",
   "execution_count": 14,
   "metadata": {},
   "outputs": [
    {
     "data": {
      "text/plain": [
       "'Order is correct'"
      ]
     },
     "execution_count": 14,
     "metadata": {},
     "output_type": "execute_result"
    }
   ],
   "source": [
    "from collections import OrderedDict as od\n",
    "\n",
    "def order_check(s , p): #s: string p: pattern to check order\n",
    "    dic5 = od.fromkeys(s)\n",
    "    \n",
    "    cnt = 0\n",
    "    \n",
    "    for key,value in dic5.items():\n",
    "        if key==p[cnt]:\n",
    "            cnt+=1\n",
    "        \n",
    "        if cnt==len(p):\n",
    "            return 'Order is correct'\n",
    "        \n",
    "    return 'Order is incorrect'\n",
    "\n",
    "order_check('elephant is running', 'ng')"
   ]
  },
  {
   "cell_type": "markdown",
   "metadata": {},
   "source": [
    "# 7. Write a Python program to sort Python Dictionaries by Key or Value?"
   ]
  },
  {
   "cell_type": "code",
   "execution_count": 15,
   "metadata": {},
   "outputs": [
    {
     "data": {
      "text/plain": [
       "{'a': 1,\n",
       " 'b': 2,\n",
       " 'c': 3,\n",
       " 'd': 4,\n",
       " 'e': 4,\n",
       " 'f': 2,\n",
       " 'g': 2,\n",
       " 'h': 5,\n",
       " 'i': 7,\n",
       " 'j': 8}"
      ]
     },
     "execution_count": 15,
     "metadata": {},
     "output_type": "execute_result"
    }
   ],
   "source": [
    "def sort_dic(dic, kv):\n",
    "    dic1 = {}\n",
    "    if kv=='key':\n",
    "        for k in sorted(dic.keys()):\n",
    "            dic1[k] = dic[k]\n",
    "        \n",
    "        return dic1\n",
    "    elif kv=='value':\n",
    "        \n",
    "        for k,v in sorted(dic.items(), key= lambda x:(x[1],x[0])):\n",
    "            dic1[k] = v\n",
    "        \n",
    "        return dic1\n",
    "    \n",
    "dic = {'a': 1,\n",
    " 'b': 2,\n",
    " 'c': 3,\n",
    " 'j': 8,\n",
    " 'h': 5,\n",
    " 'd': 4,\n",
    " 'e': 4,\n",
    " 'f': 2,\n",
    " 'g': 2,\n",
    " 'i': 7\n",
    " }\n",
    "\n",
    "sort_dic(dic, 'key')\n",
    "            "
   ]
  },
  {
   "cell_type": "code",
   "execution_count": 16,
   "metadata": {
    "scrolled": true
   },
   "outputs": [
    {
     "data": {
      "text/plain": [
       "{'a': 1,\n",
       " 'b': 2,\n",
       " 'f': 2,\n",
       " 'g': 2,\n",
       " 'c': 3,\n",
       " 'd': 4,\n",
       " 'e': 4,\n",
       " 'h': 5,\n",
       " 'i': 7,\n",
       " 'j': 8}"
      ]
     },
     "execution_count": 16,
     "metadata": {},
     "output_type": "execute_result"
    }
   ],
   "source": [
    "sort_dic(dic, 'value')"
   ]
  },
  {
   "cell_type": "code",
   "execution_count": null,
   "metadata": {},
   "outputs": [],
   "source": []
  },
  {
   "cell_type": "code",
   "execution_count": null,
   "metadata": {},
   "outputs": [],
   "source": []
  }
 ],
 "metadata": {
  "kernelspec": {
   "display_name": "Python 3",
   "language": "python",
   "name": "python3"
  },
  "language_info": {
   "codemirror_mode": {
    "name": "ipython",
    "version": 3
   },
   "file_extension": ".py",
   "mimetype": "text/x-python",
   "name": "python",
   "nbconvert_exporter": "python",
   "pygments_lexer": "ipython3",
   "version": "3.6.10"
  }
 },
 "nbformat": 4,
 "nbformat_minor": 4
}
