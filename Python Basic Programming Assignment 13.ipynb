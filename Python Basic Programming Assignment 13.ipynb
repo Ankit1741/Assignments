{
 "cells": [
  {
   "cell_type": "markdown",
   "id": "d0ff38ee",
   "metadata": {},
   "source": [
    "# Question 1: Write a program that calculates and prints the value according to the given formula:\n",
    "## Q = Square root of [(2 * C * D)/H]\n",
    "## Following are the fixed values of C and H:\n",
    "## C is 50. H is 30.\n",
    "## D is the variable whose values should be input to your program in a comma-separated sequence. \n",
    "## Example : Let us assume the following comma separated input sequence is given to the program: 100,150,180\n",
    "## The output of the program should be: 18,22,24"
   ]
  },
  {
   "cell_type": "code",
   "execution_count": 1,
   "id": "a4caa31d",
   "metadata": {},
   "outputs": [
    {
     "name": "stdout",
     "output_type": "stream",
     "text": [
      "Enter the values: 100,150,180\n",
      "18,22,24\n"
     ]
    }
   ],
   "source": [
    "n = input('Enter the values: ')\n",
    "l1 = n.split(',')\n",
    "l1 = list(map(int, l1))\n",
    "res = []\n",
    "for d in l1:\n",
    "    p = (2*50*d)//30\n",
    "    res.append(str(int(p**0.5)))\n",
    "    \n",
    "\n",
    "print(','.join(res))"
   ]
  },
  {
   "cell_type": "markdown",
   "id": "964b2b80",
   "metadata": {},
   "source": [
    "# Question 2: Write a program which takes 2 digits, X,Y as input and generates a 2-dimensional array. \n",
    "# The element value in the i-th row and j-th column of the array should be i*j.\n",
    "## Note: i=0,1.., X-1; j=0,1,¡Y-1.\n",
    "## Example\n",
    "## Suppose the following inputs are given to the program: 3,5\n",
    "## Then, the output of the program should be:\n",
    "## [[0, 0, 0, 0, 0], [0, 1, 2, 3, 4], [0, 2, 4, 6, 8]]"
   ]
  },
  {
   "cell_type": "code",
   "execution_count": 2,
   "id": "36c185cc",
   "metadata": {},
   "outputs": [
    {
     "name": "stdout",
     "output_type": "stream",
     "text": [
      "Enter the first digit: 3\n",
      "Enter the second digit: 5\n",
      "[[0, 0, 0, 0, 0], [0, 1, 2, 3, 4], [0, 2, 4, 6, 8]]\n"
     ]
    }
   ],
   "source": [
    "x = int(input('Enter the first digit: '))\n",
    "y = int(input('Enter the second digit: '))\n",
    "\n",
    "arr = []\n",
    "for i in range(x):\n",
    "    arr.append([])\n",
    "    for j in range(y):\n",
    "        arr[i].append(i*j)\n",
    "        \n",
    "print(arr)\n"
   ]
  },
  {
   "cell_type": "markdown",
   "id": "2e7c9071",
   "metadata": {},
   "source": [
    "# Question 3: Write a program that accepts a comma separated sequence of words as input and prints the words in a comma-separated sequence after sorting them alphabetically. Suppose the following input is supplied to the program:\n",
    "## without,hello,bag,world\n",
    "## Then, the output should be:\n",
    "## bag,hello,without,world"
   ]
  },
  {
   "cell_type": "code",
   "execution_count": 3,
   "id": "cd427ba5",
   "metadata": {},
   "outputs": [
    {
     "name": "stdout",
     "output_type": "stream",
     "text": [
      "Enter the values: without,hello,bag,world\n",
      "bag,hello,without,world\n"
     ]
    }
   ],
   "source": [
    "n = input('Enter the values: ')\n",
    "lst = n.split(',')\n",
    "lst.sort()\n",
    "print(','.join(lst))"
   ]
  },
  {
   "cell_type": "markdown",
   "id": "478d4d3e",
   "metadata": {},
   "source": [
    "# Question 4: Write a program that accepts a sequence of whitespace separated words as input and prints the words after removing all duplicate words and sorting them alphanumerically. Suppose the following input is supplied to the program:\n",
    "## hello world and practice makes perfect and hello world again\n",
    "## Then, the output should be:\n",
    "## again and hello makes perfect practice world"
   ]
  },
  {
   "cell_type": "code",
   "execution_count": 4,
   "id": "707fe33a",
   "metadata": {},
   "outputs": [
    {
     "name": "stdout",
     "output_type": "stream",
     "text": [
      "Enter the values: hello world and practice makes perfect and hello world again\n",
      "again and hello makes perfect practice world\n"
     ]
    }
   ],
   "source": [
    "n = input('Enter the values: ')\n",
    "lst = n.split(' ')\n",
    "lst = list(set(lst))\n",
    "lst.sort()\n",
    "\n",
    "print(' '.join(lst))"
   ]
  },
  {
   "cell_type": "markdown",
   "id": "7b36be20",
   "metadata": {},
   "source": [
    "# Question 5: Write a program that accepts a sentence and calculate the number of letters and digits. Suppose the following input is supplied to the program:\n",
    "## hello world! 123\n",
    "## Then, the output should be:\n",
    "## LETTERS 10\n",
    "## DIGITS 3"
   ]
  },
  {
   "cell_type": "code",
   "execution_count": 5,
   "id": "10ed5185",
   "metadata": {},
   "outputs": [
    {
     "name": "stdout",
     "output_type": "stream",
     "text": [
      "Enter the sentence: hello world! 123\n",
      "LETTERS  10\n",
      "DIGITS  3\n"
     ]
    }
   ],
   "source": [
    "n = input('Enter the sentence: ')\n",
    "\n",
    "l = 0\n",
    "d = 0\n",
    "\n",
    "for i in n:\n",
    "    if i.isalpha():\n",
    "        l+=1\n",
    "    if i.isnumeric():\n",
    "        d+=1\n",
    "        \n",
    "print(\"LETTERS \", l)\n",
    "print(\"DIGITS \", d)"
   ]
  },
  {
   "cell_type": "markdown",
   "id": "f5579220",
   "metadata": {},
   "source": [
    "# Question 6: A website requires the users to input username and password to register. Write a program to check the validity of password input by users.\n",
    "# Following are the criteria for checking the password:\n",
    "## 1. At least 1 letter between [a-z]\n",
    "## 2. At least 1 number between [0-9]\n",
    "## 3. At least 1 letter between [A-Z]\n",
    "## 4. At least 1 character from [@#]\n",
    "## 5. Minimum length of transaction password: 6\n",
    "## 6. Maximum length of transaction password: 12\n",
    "\n",
    "## Your program should accept a sequence of comma separated passwords and will check them according to the above criteria. Passwords that match the criteria are to be printed, each separated by a comma.\n",
    "## Example\n",
    "## If the following passwords are given as input to the program:\n",
    "## ABd1234@1,a F1#,2w3E*,2We3345\n",
    "## Then, the output of the program should be:\n",
    "## ABd1234@1"
   ]
  },
  {
   "cell_type": "code",
   "execution_count": 6,
   "id": "44a6f0b4",
   "metadata": {},
   "outputs": [
    {
     "name": "stdout",
     "output_type": "stream",
     "text": [
      "Enter the passwords to check: ABd1234@1,a F1#,2w3E*,2We3345\n",
      "ABd1234@1\n"
     ]
    }
   ],
   "source": [
    "def criteria(x):\n",
    "    \n",
    "    splchar = ['$', '@', '#']\n",
    "    \n",
    "    if len(x)<6:\n",
    "        return False\n",
    "    \n",
    "    if len(x)>12:\n",
    "        return False\n",
    "    \n",
    "    if not any(c.isdigit() for c in x):\n",
    "        return False\n",
    "    \n",
    "    if not any(c.isupper() for c in x):\n",
    "        return False\n",
    "    \n",
    "    if not any(c.islower() for c in x):\n",
    "        return False\n",
    "    \n",
    "    if not any(c in splchar for c in x):\n",
    "        return False\n",
    "    \n",
    "    return True\n",
    "\n",
    "n = input('Enter the passwords to check: ')\n",
    "\n",
    "passlist = n.split(',')\n",
    "\n",
    "valpass = []\n",
    "\n",
    "for i in passlist:\n",
    "    if criteria(i):\n",
    "        valpass.append(i)\n",
    "        \n",
    "print(','.join(valpass))"
   ]
  },
  {
   "cell_type": "code",
   "execution_count": null,
   "id": "e02e126a",
   "metadata": {},
   "outputs": [],
   "source": []
  },
  {
   "cell_type": "code",
   "execution_count": null,
   "id": "110c5cd7",
   "metadata": {},
   "outputs": [],
   "source": []
  }
 ],
 "metadata": {
  "kernelspec": {
   "display_name": "Python 3 (ipykernel)",
   "language": "python",
   "name": "python3"
  },
  "language_info": {
   "codemirror_mode": {
    "name": "ipython",
    "version": 3
   },
   "file_extension": ".py",
   "mimetype": "text/x-python",
   "name": "python",
   "nbconvert_exporter": "python",
   "pygments_lexer": "ipython3",
   "version": "3.9.7"
  }
 },
 "nbformat": 4,
 "nbformat_minor": 5
}
