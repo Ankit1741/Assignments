{
 "cells": [
  {
   "cell_type": "markdown",
   "id": "f3dd833e",
   "metadata": {},
   "source": [
    "# 1. How do you distinguish between shutil.copy() and shutil.copytree()?\n",
    "\n",
    "shutil.copy() copies a single file. <br>\n",
    "shutil.copytree() copies the entire folder including the entire files and folders in the file."
   ]
  },
  {
   "cell_type": "markdown",
   "id": "cc6dcfae",
   "metadata": {},
   "source": [
    "# 2. What function is used to rename files?\n",
    "\n",
    "Using os.rename(oldname, newname)"
   ]
  },
  {
   "cell_type": "markdown",
   "id": "cef88387",
   "metadata": {},
   "source": [
    "# 3. What is the difference between the delete functions in the send2trash and shutil modules?\n",
    "\n",
    "send2trash will move the files to the recycle bin when deleted.<br>\n",
    "Shutil will delete the files permanently."
   ]
  },
  {
   "cell_type": "markdown",
   "id": "e290724b",
   "metadata": {},
   "source": [
    "# 4. ZipFile objects have a close() method just like File objects’ close() method. What ZipFile method is equivalent to File objects’ open() method?\n",
    "\n",
    "Yes both the close methods are similar. They take similar arguments that are filename and the modes."
   ]
  },
  {
   "cell_type": "markdown",
   "id": "ddf0d8fb",
   "metadata": {},
   "source": [
    "# 5. Create a programme that searches a folder tree for files with a certain file extension (such as .pdf or .jpg). Copy these files from whatever location they are in to a new folder."
   ]
  },
  {
   "cell_type": "code",
   "execution_count": 3,
   "id": "61ca0c78",
   "metadata": {},
   "outputs": [
    {
     "name": "stdout",
     "output_type": "stream",
     "text": [
      "Content of des folder initially :  []\n",
      "Content of des folder after operation :  ['test.txt', 'test1.txt']\n"
     ]
    }
   ],
   "source": [
    "import os\n",
    "import shutil\n",
    "cur = os.getcwd()\n",
    "lst = os.listdir(cur)\n",
    "des = 'C:\\\\Users\\\\ankit\\\\Desktop\\\\ASSIGNMENT\\\\New Folder'\n",
    "print('Content of des folder initially : ', os.listdir(des))\n",
    "\n",
    "for file in lst:\n",
    "    flst = file.split('.')\n",
    "    if flst[1]=='txt':\n",
    "        shutil.copy(cur+'/'+file, des)\n",
    "print('Content of des folder after operation : ', os.listdir(des))"
   ]
  },
  {
   "cell_type": "code",
   "execution_count": null,
   "id": "cb00e6f3",
   "metadata": {},
   "outputs": [],
   "source": []
  }
 ],
 "metadata": {
  "kernelspec": {
   "display_name": "Python 3 (ipykernel)",
   "language": "python",
   "name": "python3"
  },
  "language_info": {
   "codemirror_mode": {
    "name": "ipython",
    "version": 3
   },
   "file_extension": ".py",
   "mimetype": "text/x-python",
   "name": "python",
   "nbconvert_exporter": "python",
   "pygments_lexer": "ipython3",
   "version": "3.9.7"
  }
 },
 "nbformat": 4,
 "nbformat_minor": 5
}
