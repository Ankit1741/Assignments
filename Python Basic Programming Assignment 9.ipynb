{
 "cells": [
  {
   "cell_type": "markdown",
   "id": "b3a72bb1",
   "metadata": {},
   "source": [
    "# 1. Write a Python program to check if the given number is a Disarium Number?"
   ]
  },
  {
   "cell_type": "code",
   "execution_count": 1,
   "id": "70b6ca74",
   "metadata": {},
   "outputs": [
    {
     "data": {
      "text/plain": [
       "True"
      ]
     },
     "execution_count": 1,
     "metadata": {},
     "output_type": "execute_result"
    }
   ],
   "source": [
    "def checkDisarium(n):\n",
    "    cnt = len(str(n))\n",
    "    \n",
    "    a = n\n",
    "    sum = 0\n",
    "    while a!=0:\n",
    "        r = a%10\n",
    "        sum += r**cnt\n",
    "        cnt-=1\n",
    "        \n",
    "        a=a//10\n",
    "        \n",
    "    if n==sum:\n",
    "        return True\n",
    "    else:\n",
    "        return False\n",
    "    \n",
    "checkDisarium(89)"
   ]
  },
  {
   "cell_type": "markdown",
   "id": "11caf5db",
   "metadata": {},
   "source": [
    "# 2. Write a Python program to print all disarium numbers between 1 to 100?"
   ]
  },
  {
   "cell_type": "code",
   "execution_count": 2,
   "id": "cb98a9cd",
   "metadata": {},
   "outputs": [
    {
     "name": "stdout",
     "output_type": "stream",
     "text": [
      "1\n",
      "2\n",
      "3\n",
      "4\n",
      "5\n",
      "6\n",
      "7\n",
      "8\n",
      "9\n",
      "89\n"
     ]
    }
   ],
   "source": [
    "for i in range(1, 101):\n",
    "    if checkDisarium(i):\n",
    "        print(i)"
   ]
  },
  {
   "cell_type": "markdown",
   "id": "fc860cf3",
   "metadata": {},
   "source": [
    "# 3. Write a Python program to check if the given number is Happy Number?"
   ]
  },
  {
   "cell_type": "code",
   "execution_count": 3,
   "id": "bbdcf7e6",
   "metadata": {},
   "outputs": [
    {
     "data": {
      "text/plain": [
       "True"
      ]
     },
     "execution_count": 3,
     "metadata": {},
     "output_type": "execute_result"
    }
   ],
   "source": [
    "def checkHappy(n):\n",
    "    st = set()\n",
    "    while(1):\n",
    "        squareSum = 0\n",
    "        while(n!=0):\n",
    "            squareSum += (n % 10) * (n % 10)\n",
    "            n = n//10\n",
    "        \n",
    "        n = squareSum\n",
    "        \n",
    "        if (n == 1):\n",
    "            return True\n",
    "        if n in st:\n",
    "            return False\n",
    "        st.add(n)\n",
    "\n",
    "checkHappy(49)\n",
    "    "
   ]
  },
  {
   "cell_type": "markdown",
   "id": "b8f16f27",
   "metadata": {},
   "source": [
    "# 4. Write a Python program to print all happy numbers between 1 and 100?"
   ]
  },
  {
   "cell_type": "code",
   "execution_count": 4,
   "id": "690d8a73",
   "metadata": {},
   "outputs": [
    {
     "name": "stdout",
     "output_type": "stream",
     "text": [
      "1\n",
      "7\n",
      "10\n",
      "13\n",
      "19\n",
      "23\n",
      "28\n",
      "31\n",
      "32\n",
      "44\n",
      "49\n",
      "68\n",
      "70\n",
      "79\n",
      "82\n",
      "86\n",
      "91\n",
      "94\n",
      "97\n"
     ]
    }
   ],
   "source": [
    "for i in range(1, 100):\n",
    "    if checkHappy(i):\n",
    "        print(i)"
   ]
  },
  {
   "cell_type": "markdown",
   "id": "738887ef",
   "metadata": {},
   "source": [
    "# 5. Write a Python program to determine whether the given number is a Harshad Number?"
   ]
  },
  {
   "cell_type": "code",
   "execution_count": 5,
   "id": "efdfedee",
   "metadata": {},
   "outputs": [
    {
     "data": {
      "text/plain": [
       "False"
      ]
     },
     "execution_count": 5,
     "metadata": {},
     "output_type": "execute_result"
    }
   ],
   "source": [
    "# when a number is divisible by sum of it digits is Harshad Number\n",
    "\n",
    "def checkHarshad(n):\n",
    "    temp = n\n",
    "    digsum = 0\n",
    "    while temp>0:\n",
    "        digsum += temp%10\n",
    "        temp = temp//10\n",
    "        \n",
    "    if n%digsum==0:\n",
    "        return True\n",
    "    return False\n",
    "\n",
    "checkHarshad(13)"
   ]
  },
  {
   "cell_type": "markdown",
   "id": "672befe8",
   "metadata": {},
   "source": [
    "# 6. Write a Python program to print all pronic numbers between 1 and 100?"
   ]
  },
  {
   "cell_type": "code",
   "execution_count": 6,
   "id": "b2112f02",
   "metadata": {},
   "outputs": [
    {
     "name": "stdout",
     "output_type": "stream",
     "text": [
      "0\n",
      "2\n",
      "6\n",
      "12\n",
      "20\n",
      "30\n",
      "42\n",
      "56\n",
      "72\n",
      "90\n"
     ]
    }
   ],
   "source": [
    "# a number of form n(n+1) is a pronic number\n",
    "\n",
    "for i in range(20):\n",
    "    a = i*(i+1)\n",
    "    if a<100:\n",
    "        print(a)\n",
    "    \n"
   ]
  },
  {
   "cell_type": "code",
   "execution_count": null,
   "id": "ce41fb28",
   "metadata": {},
   "outputs": [],
   "source": []
  }
 ],
 "metadata": {
  "kernelspec": {
   "display_name": "Python 3 (ipykernel)",
   "language": "python",
   "name": "python3"
  },
  "language_info": {
   "codemirror_mode": {
    "name": "ipython",
    "version": 3
   },
   "file_extension": ".py",
   "mimetype": "text/x-python",
   "name": "python",
   "nbconvert_exporter": "python",
   "pygments_lexer": "ipython3",
   "version": "3.9.7"
  }
 },
 "nbformat": 4,
 "nbformat_minor": 5
}
