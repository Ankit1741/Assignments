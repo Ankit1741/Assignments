{
 "cells": [
  {
   "cell_type": "markdown",
   "id": "b20d1f72",
   "metadata": {},
   "source": [
    "## Question 1\n",
    "## Create a function that takes a number as an argument and returns True or False depending on whether the number is symmetrical or not. A number is symmetrical when it is the same as its reverse.\n",
    "## Examples\n",
    "## is_symmetrical(7227) ➞ True\n",
    "## is_symmetrical(12567) ➞ False\n",
    "## is_symmetrical(44444444) ➞ True\n",
    "## is_symmetrical(9939) ➞ False\n",
    "## is_symmetrical(1112111) ➞ True"
   ]
  },
  {
   "cell_type": "code",
   "execution_count": 1,
   "id": "d650f8e0",
   "metadata": {},
   "outputs": [
    {
     "data": {
      "text/plain": [
       "True"
      ]
     },
     "execution_count": 1,
     "metadata": {},
     "output_type": "execute_result"
    }
   ],
   "source": [
    "def is_symmetrical(n):\n",
    "    s = str(n)\n",
    "    for i in range(len(s)//2):\n",
    "        if s[i]!=s[-i-1]:\n",
    "            return False\n",
    "    return True   \n",
    "is_symmetrical(7227)        "
   ]
  },
  {
   "cell_type": "code",
   "execution_count": 2,
   "id": "cb3ea586",
   "metadata": {},
   "outputs": [
    {
     "data": {
      "text/plain": [
       "False"
      ]
     },
     "execution_count": 2,
     "metadata": {},
     "output_type": "execute_result"
    }
   ],
   "source": [
    "is_symmetrical(9939)"
   ]
  },
  {
   "cell_type": "code",
   "execution_count": 3,
   "id": "d7e5a998",
   "metadata": {},
   "outputs": [
    {
     "data": {
      "text/plain": [
       "True"
      ]
     },
     "execution_count": 3,
     "metadata": {},
     "output_type": "execute_result"
    }
   ],
   "source": [
    "is_symmetrical(1112111)"
   ]
  },
  {
   "cell_type": "code",
   "execution_count": 4,
   "id": "28da2053",
   "metadata": {},
   "outputs": [
    {
     "data": {
      "text/plain": [
       "False"
      ]
     },
     "execution_count": 4,
     "metadata": {},
     "output_type": "execute_result"
    }
   ],
   "source": [
    "is_symmetrical(12567) "
   ]
  },
  {
   "cell_type": "markdown",
   "id": "6514ffe3",
   "metadata": {},
   "source": [
    "# Question 2 Given a string of numbers separated by a comma and space, return the product of the numbers.\n",
    "## Examples\n",
    "## multiply_nums(&quot;2, 3&quot;) ➞ 6\n",
    "## multiply_nums(&quot;1, 2, 3, 4&quot;) ➞ 24\n",
    "## multiply_nums(&quot;54, 75, 453, 0&quot;) ➞ 0\n",
    "## multiply_nums(&quot;10, -2&quot;) ➞ -20"
   ]
  },
  {
   "cell_type": "code",
   "execution_count": 5,
   "id": "18b97f3b",
   "metadata": {},
   "outputs": [
    {
     "data": {
      "text/plain": [
       "6"
      ]
     },
     "execution_count": 5,
     "metadata": {},
     "output_type": "execute_result"
    }
   ],
   "source": [
    "def multiply_nums(s):\n",
    "    lst = s.split(', ')\n",
    "    prod = 1\n",
    "    for i in lst:\n",
    "        prod*=int(i)\n",
    "        \n",
    "    return prod\n",
    "\n",
    "multiply_nums(\"2, 3\")"
   ]
  },
  {
   "cell_type": "code",
   "execution_count": 6,
   "id": "c8d377a4",
   "metadata": {},
   "outputs": [
    {
     "data": {
      "text/plain": [
       "24"
      ]
     },
     "execution_count": 6,
     "metadata": {},
     "output_type": "execute_result"
    }
   ],
   "source": [
    "multiply_nums(\"1, 2, 3, 4\")"
   ]
  },
  {
   "cell_type": "code",
   "execution_count": 7,
   "id": "e25b00e1",
   "metadata": {},
   "outputs": [
    {
     "data": {
      "text/plain": [
       "0"
      ]
     },
     "execution_count": 7,
     "metadata": {},
     "output_type": "execute_result"
    }
   ],
   "source": [
    "multiply_nums(\"54, 75, 453, 0\")"
   ]
  },
  {
   "cell_type": "code",
   "execution_count": 8,
   "id": "b6be2658",
   "metadata": {},
   "outputs": [
    {
     "data": {
      "text/plain": [
       "-20"
      ]
     },
     "execution_count": 8,
     "metadata": {},
     "output_type": "execute_result"
    }
   ],
   "source": [
    "multiply_nums(\"10, -2\")"
   ]
  },
  {
   "cell_type": "markdown",
   "id": "da6e9af5",
   "metadata": {},
   "source": [
    "# Question 3 Create a function that squares every digit of a number.\n",
    "## Examples\n",
    "## square_digits(9119) ➞ 811181\n",
    "## square_digits(2483) ➞ 416649\n",
    "## square_digits(3212) ➞ 9414\n",
    "## Notes\n",
    "## The function receives an integer and must return an integer."
   ]
  },
  {
   "cell_type": "code",
   "execution_count": 9,
   "id": "231fc529",
   "metadata": {},
   "outputs": [
    {
     "data": {
      "text/plain": [
       "9414"
      ]
     },
     "execution_count": 9,
     "metadata": {},
     "output_type": "execute_result"
    }
   ],
   "source": [
    "def square_digits(x):\n",
    "    lst = []\n",
    "    while x!=0:\n",
    "        t = x%10\n",
    "        lst.append(str(t**2))\n",
    "        x=x//10\n",
    "        \n",
    "    return int(''.join(lst[::-1]))\n",
    "\n",
    "square_digits(3212)"
   ]
  },
  {
   "cell_type": "code",
   "execution_count": 10,
   "id": "f71d5b04",
   "metadata": {},
   "outputs": [
    {
     "data": {
      "text/plain": [
       "811181"
      ]
     },
     "execution_count": 10,
     "metadata": {},
     "output_type": "execute_result"
    }
   ],
   "source": [
    "square_digits(9119)"
   ]
  },
  {
   "cell_type": "code",
   "execution_count": 11,
   "id": "bb5dacf2",
   "metadata": {},
   "outputs": [
    {
     "data": {
      "text/plain": [
       "416649"
      ]
     },
     "execution_count": 11,
     "metadata": {},
     "output_type": "execute_result"
    }
   ],
   "source": [
    "square_digits(2483)"
   ]
  },
  {
   "cell_type": "markdown",
   "id": "015139b2",
   "metadata": {},
   "source": [
    "# Question 4 Create a function that sorts a list and removes all duplicate items from it.\n",
    "## Examples\n",
    "## setify([1, 3, 3, 5, 5]) ➞ [1, 3, 5]\n",
    "## setify([4, 4, 4, 4]) ➞ [4]\n",
    "## setify([5, 7, 8, 9, 10, 15]) ➞ [5, 7, 8, 9, 10, 15]\n",
    "## setify([3, 3, 3, 2, 1]) ➞ [1, 2, 3]"
   ]
  },
  {
   "cell_type": "code",
   "execution_count": 12,
   "id": "9c0755a3",
   "metadata": {},
   "outputs": [
    {
     "data": {
      "text/plain": [
       "[1, 3, 5]"
      ]
     },
     "execution_count": 12,
     "metadata": {},
     "output_type": "execute_result"
    }
   ],
   "source": [
    "def setify(lst):\n",
    "    st = set(lst)\n",
    "    l = list(st)\n",
    "    return l\n",
    "    \n",
    "    \n",
    "setify([1, 3, 3, 5, 5])"
   ]
  },
  {
   "cell_type": "code",
   "execution_count": 13,
   "id": "c7970bd3",
   "metadata": {},
   "outputs": [
    {
     "data": {
      "text/plain": [
       "[4]"
      ]
     },
     "execution_count": 13,
     "metadata": {},
     "output_type": "execute_result"
    }
   ],
   "source": [
    "setify([4, 4, 4, 4])"
   ]
  },
  {
   "cell_type": "code",
   "execution_count": 14,
   "id": "b0058a02",
   "metadata": {},
   "outputs": [
    {
     "data": {
      "text/plain": [
       "[5, 7, 8, 9, 10, 15]"
      ]
     },
     "execution_count": 14,
     "metadata": {},
     "output_type": "execute_result"
    }
   ],
   "source": [
    "setify([5, 7, 8, 9, 10, 15])"
   ]
  },
  {
   "cell_type": "markdown",
   "id": "9fa1046b",
   "metadata": {},
   "source": [
    "# Question 5\n",
    "## Create a function that returns the mean of all digits.\n",
    "## Examples\n",
    "## mean(42) ➞ 3\n",
    "## mean(12345) ➞ 3\n",
    "## mean(666) ➞ 6\n",
    "## Notes\n",
    "##  The mean of all digits is the sum of digits / how many digits there are (e.g. mean of digits in 512 is (5+1+2)/3(number of digits) = 8/3=2).\n",
    "##  The mean will always be an integer."
   ]
  },
  {
   "cell_type": "code",
   "execution_count": 15,
   "id": "3ad7fb1f",
   "metadata": {},
   "outputs": [
    {
     "data": {
      "text/plain": [
       "3"
      ]
     },
     "execution_count": 15,
     "metadata": {},
     "output_type": "execute_result"
    }
   ],
   "source": [
    "def mean(x):\n",
    "    summ = 0\n",
    "    cnt = 0\n",
    "    while x!=0:\n",
    "        t = x%10\n",
    "        summ+=t\n",
    "        cnt+=1\n",
    "        x=x//10\n",
    "        \n",
    "    return summ//cnt\n",
    "\n",
    "mean(42) "
   ]
  },
  {
   "cell_type": "code",
   "execution_count": 16,
   "id": "88132a46",
   "metadata": {},
   "outputs": [
    {
     "data": {
      "text/plain": [
       "6"
      ]
     },
     "execution_count": 16,
     "metadata": {},
     "output_type": "execute_result"
    }
   ],
   "source": [
    "mean(666)"
   ]
  },
  {
   "cell_type": "code",
   "execution_count": 17,
   "id": "5db0e203",
   "metadata": {},
   "outputs": [
    {
     "data": {
      "text/plain": [
       "3"
      ]
     },
     "execution_count": 17,
     "metadata": {},
     "output_type": "execute_result"
    }
   ],
   "source": [
    "mean(12345)"
   ]
  },
  {
   "cell_type": "code",
   "execution_count": null,
   "id": "aa398254",
   "metadata": {},
   "outputs": [],
   "source": []
  }
 ],
 "metadata": {
  "kernelspec": {
   "display_name": "Python 3 (ipykernel)",
   "language": "python",
   "name": "python3"
  },
  "language_info": {
   "codemirror_mode": {
    "name": "ipython",
    "version": 3
   },
   "file_extension": ".py",
   "mimetype": "text/x-python",
   "name": "python",
   "nbconvert_exporter": "python",
   "pygments_lexer": "ipython3",
   "version": "3.9.7"
  }
 },
 "nbformat": 4,
 "nbformat_minor": 5
}
