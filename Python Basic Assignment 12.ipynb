{
 "cells": [
  {
   "cell_type": "markdown",
   "id": "24d60410",
   "metadata": {},
   "source": [
    "# 1. In what modes should the PdfFileReader() and PdfFileWriter() File objects will be opened?\n",
    "\n",
    "PyPDF2 module includes the methods PdfFileReader() and PdfFileWriter()."
   ]
  },
  {
   "cell_type": "markdown",
   "id": "63c66e06",
   "metadata": {},
   "source": [
    "# 2. From a PdfFileReader object, how do you get a Page object for page 5?\n",
    "\n",
    "using getpage(5) method"
   ]
  },
  {
   "cell_type": "markdown",
   "id": "2641a688",
   "metadata": {},
   "source": [
    "# 3. What PdfFileReader variable stores the number of pages in the PDF document?\n",
    "\n",
    "numPages attribute of the PdfFileReader stores the number of pages."
   ]
  },
  {
   "cell_type": "markdown",
   "id": "eb252a0c",
   "metadata": {},
   "source": [
    "# 4. If a PdfFileReader object’s PDF is encrypted with the password swordfish, what must you do before you can obtain Page objects from it?\n",
    "\n",
    "PdfFileReader().decrypt('swordfidh')\n",
    "<br>\n",
    "decrypt() method will decrypt the pdf file. Then we can obtain page objects from it."
   ]
  },
  {
   "cell_type": "markdown",
   "id": "8f9da4c9",
   "metadata": {},
   "source": [
    "# 5. What methods do you use to rotate a page?\n",
    "\n",
    "For rotating the pdf page, we use pageObject.rotateClockwise(degree of rotation) method."
   ]
  },
  {
   "cell_type": "markdown",
   "id": "48088d43",
   "metadata": {},
   "source": [
    "# 6. What is the difference between a Run object and a Paragraph object?\n",
    "\n",
    "A Run object is a contiguous run of text with the same style. A new Run object is needed whenever the text style changes.<br>\n",
    "\n",
    "A new paragraph begins whenever the user presses ENTER or RETURN while typing in a Word document. Each of these Paragraph objects contains a list of one or more Run objects."
   ]
  },
  {
   "cell_type": "markdown",
   "id": "28e9ad03",
   "metadata": {},
   "source": [
    "# 7. How do you obtain a list of Paragraph objects for a Document object that’s stored in a variable named doc?\n",
    "\n",
    "doc.paragraphs"
   ]
  },
  {
   "cell_type": "markdown",
   "id": "ceeefe06",
   "metadata": {},
   "source": [
    "# 8. What type of object has bold, underline, italic, strike, and outline variables?\n",
    "\n",
    "Run object has bold, underline, italic, strike, and outline variables."
   ]
  },
  {
   "cell_type": "markdown",
   "id": "2f19bb43",
   "metadata": {},
   "source": [
    "# 9. What is the difference between False, True, and None for the bold variable?\n",
    "\n",
    "When True, it makes the Run object Bold. <br>\n",
    "When False, it makes the Run object non-Bold.<br>\n",
    "When None, Run object just use the style’s bold setting."
   ]
  },
  {
   "cell_type": "markdown",
   "id": "c2b655a8",
   "metadata": {},
   "source": [
    "# 10. How do you create a Document object for a new Word document?\n",
    "\n",
    "Using docx.Document() method."
   ]
  },
  {
   "cell_type": "markdown",
   "id": "28499c65",
   "metadata": {},
   "source": [
    "# 11. How do you add a paragraph with the text &#39;Hello, there!&#39; to a Document object stored in a variable named doc?\n",
    "\n",
    "Using doc.add_paragraph('Hello there!') method."
   ]
  },
  {
   "cell_type": "markdown",
   "id": "9c3335b2",
   "metadata": {},
   "source": [
    "# 12. What integers represent the levels of headings available in Word documents?\n",
    "\n",
    "0,1,2,3,4 are the integers representing the levels of headings available in Word documents."
   ]
  },
  {
   "cell_type": "code",
   "execution_count": null,
   "id": "083a5620",
   "metadata": {},
   "outputs": [],
   "source": []
  }
 ],
 "metadata": {
  "kernelspec": {
   "display_name": "Python 3 (ipykernel)",
   "language": "python",
   "name": "python3"
  },
  "language_info": {
   "codemirror_mode": {
    "name": "ipython",
    "version": 3
   },
   "file_extension": ".py",
   "mimetype": "text/x-python",
   "name": "python",
   "nbconvert_exporter": "python",
   "pygments_lexer": "ipython3",
   "version": "3.9.7"
  }
 },
 "nbformat": 4,
 "nbformat_minor": 5
}
