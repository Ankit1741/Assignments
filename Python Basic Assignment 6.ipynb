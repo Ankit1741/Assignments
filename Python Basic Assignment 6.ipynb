{
 "cells": [
  {
   "cell_type": "markdown",
   "metadata": {},
   "source": [
    "# 1. What are escape characters, and how do you use them?\n",
    "\n",
    "* Escape characters are \"\\\\\" that are used to insert illegal characters in a string.\n"
   ]
  },
  {
   "cell_type": "code",
   "execution_count": 1,
   "metadata": {},
   "outputs": [
    {
     "ename": "SyntaxError",
     "evalue": "invalid syntax (<ipython-input-1-e1d29e51876b>, line 2)",
     "output_type": "error",
     "traceback": [
      "\u001b[1;36m  File \u001b[1;32m\"<ipython-input-1-e1d29e51876b>\"\u001b[1;36m, line \u001b[1;32m2\u001b[0m\n\u001b[1;33m    s1 = \"My name is \"Ankit\".\" #this is illegal and throw an error\u001b[0m\n\u001b[1;37m                          ^\u001b[0m\n\u001b[1;31mSyntaxError\u001b[0m\u001b[1;31m:\u001b[0m invalid syntax\n"
     ]
    }
   ],
   "source": [
    "#example string: My name is \"Ankit\".\n",
    "s1 = \"My name is \"Ankit\".\" #this is illegal and throw an error"
   ]
  },
  {
   "cell_type": "code",
   "execution_count": 2,
   "metadata": {},
   "outputs": [
    {
     "name": "stdout",
     "output_type": "stream",
     "text": [
      "My name is \"Ankit\".\n"
     ]
    }
   ],
   "source": [
    "s1 = \"My name is \\\"Ankit\\\".\"\n",
    "print(s1)"
   ]
  },
  {
   "cell_type": "markdown",
   "metadata": {},
   "source": [
    "# 2. What do the escape characters n and t stand for?\n",
    "* \\\\n is used for new line.\n",
    "* \\\\t is used for tab space."
   ]
  },
  {
   "cell_type": "markdown",
   "metadata": {},
   "source": [
    "# 3. What is the way to include backslash characters in a string?\n",
    "\n",
    "* By using double backslash."
   ]
  },
  {
   "cell_type": "markdown",
   "metadata": {},
   "source": [
    "# 4. The string &quot;Howl&#39;s Moving Castle&quot; is a correct value. Why isn&#39;t the single quote character in the word Howl&#39;s not escaped a problem?\n",
    "\n",
    "* As the string is inclosed in double quotes, it will make single quotes legal.\n",
    "* When using the string within single quotes it will show error."
   ]
  },
  {
   "cell_type": "code",
   "execution_count": 3,
   "metadata": {},
   "outputs": [
    {
     "ename": "SyntaxError",
     "evalue": "invalid syntax (<ipython-input-3-07c6d1bf1241>, line 1)",
     "output_type": "error",
     "traceback": [
      "\u001b[1;36m  File \u001b[1;32m\"<ipython-input-3-07c6d1bf1241>\"\u001b[1;36m, line \u001b[1;32m1\u001b[0m\n\u001b[1;33m    s1= 'Howl's Moving Castle'\u001b[0m\n\u001b[1;37m              ^\u001b[0m\n\u001b[1;31mSyntaxError\u001b[0m\u001b[1;31m:\u001b[0m invalid syntax\n"
     ]
    }
   ],
   "source": [
    "s1= 'Howl's Moving Castle'\n"
   ]
  },
  {
   "cell_type": "code",
   "execution_count": 4,
   "metadata": {},
   "outputs": [
    {
     "name": "stdout",
     "output_type": "stream",
     "text": [
      "My name is \"Ankit\".\n"
     ]
    }
   ],
   "source": [
    "s2 = \"\"\"My name is \\\"Ankit\\\".\"\"\"\n",
    "print(s2)"
   ]
  },
  {
   "cell_type": "markdown",
   "metadata": {},
   "source": [
    "# 5. How do you write a string of newlines if you don&#39;t want to use the n character?\n",
    "\n",
    "* Using different print function for different lines. we can print a string of new lines without using the n character."
   ]
  },
  {
   "cell_type": "code",
   "execution_count": 5,
   "metadata": {},
   "outputs": [
    {
     "name": "stdout",
     "output_type": "stream",
     "text": [
      "Hello, How are you?\n",
      "Hi I am fine.\n"
     ]
    }
   ],
   "source": [
    "s = \"Hello, How are you?\\nHi I am fine.\"\n",
    "print(s)"
   ]
  },
  {
   "cell_type": "code",
   "execution_count": 6,
   "metadata": {},
   "outputs": [
    {
     "name": "stdout",
     "output_type": "stream",
     "text": [
      "Hello, How are you?\n",
      "Hi I am fine.\n"
     ]
    }
   ],
   "source": [
    "s1 = s.split(\"\\n\")\n",
    "for i in s1:\n",
    "    print(i)"
   ]
  },
  {
   "cell_type": "code",
   "execution_count": 7,
   "metadata": {},
   "outputs": [
    {
     "name": "stdout",
     "output_type": "stream",
     "text": [
      "Hello, How are you?\n",
      "Hi I am fine\n"
     ]
    }
   ],
   "source": [
    "print(\"Hello, How are you?\")\n",
    "print('Hi I am fine')"
   ]
  },
  {
   "cell_type": "markdown",
   "metadata": {},
   "source": [
    "# 6. What are the values of the given expressions?\n",
    "## &#39;Hello, world!&#39;[1]\n",
    "'e'\n",
    "## &#39;Hello, world!&#39;[0:5]\n",
    "'Hello'\n",
    "## &#39;Hello, world!&#39;[:5]\n",
    "'Hello'\n",
    "## &#39;Hello, world!&#39;[3:]\n",
    "'lo, world!'"
   ]
  },
  {
   "cell_type": "markdown",
   "metadata": {},
   "source": [
    "# 7. What are the values of the following expressions?\n",
    "## &#39;Hello&#39;.upper()\n",
    "'HELLO'\n",
    "## &#39;Hello&#39;.upper().isupper()\n",
    "True\n",
    "## &#39;Hello&#39;.upper().lower()\n",
    "'hello'"
   ]
  },
  {
   "cell_type": "code",
   "execution_count": 8,
   "metadata": {},
   "outputs": [
    {
     "name": "stdout",
     "output_type": "stream",
     "text": [
      "HELLO\n",
      "True\n",
      "hello\n"
     ]
    }
   ],
   "source": [
    "print('Hello'.upper())\n",
    "print('Hello'.upper().isupper())\n",
    "print('Hello'.upper().lower())"
   ]
  },
  {
   "cell_type": "markdown",
   "metadata": {},
   "source": [
    "# 8. What are the values of the following expressions?\n",
    "## &#39;Remember, remember, the fifth of July.&#39;.split()\n",
    "['Remember,', 'remember,', 'the', 'fifth', 'of', 'July.']\n",
    "## &#39;-&#39;.join(&#39;There can only one.&#39;.split())\n",
    "'There-can-only-one.'"
   ]
  },
  {
   "cell_type": "code",
   "execution_count": 9,
   "metadata": {},
   "outputs": [
    {
     "data": {
      "text/plain": [
       "['Remember,', 'remember,', 'the', 'fifth', 'of', 'July.']"
      ]
     },
     "execution_count": 9,
     "metadata": {},
     "output_type": "execute_result"
    }
   ],
   "source": [
    "'Remember, remember, the fifth of July.'.split()"
   ]
  },
  {
   "cell_type": "code",
   "execution_count": 10,
   "metadata": {},
   "outputs": [
    {
     "data": {
      "text/plain": [
       "'There-can-only-one.'"
      ]
     },
     "execution_count": 10,
     "metadata": {},
     "output_type": "execute_result"
    }
   ],
   "source": [
    "'-'.join('There can only one.'.split())"
   ]
  },
  {
   "cell_type": "markdown",
   "metadata": {},
   "source": [
    "# 9. What are the methods for right-justifying, left-justifying, and centering a string?\n",
    "* Right justifying : str.rjust()\n",
    "* Left justifying : str.ljust()\n",
    "* Centering : str.center()"
   ]
  },
  {
   "cell_type": "code",
   "execution_count": 11,
   "metadata": {},
   "outputs": [
    {
     "name": "stdout",
     "output_type": "stream",
     "text": [
      "              I am happy.               \n",
      "I am happy.                             \n",
      "                             I am happy.\n"
     ]
    }
   ],
   "source": [
    "s = \"I am happy.\"\n",
    "sc = s.center(40)\n",
    "sl = s.ljust(40)\n",
    "sr = s.rjust(40)\n",
    "print(sc) #centering\n",
    "print(sl) #left judtify\n",
    "print(sr) #right justify"
   ]
  },
  {
   "cell_type": "markdown",
   "metadata": {},
   "source": [
    "# 10. What is the best way to remove whitespace characters from the start or end?\n",
    "\n",
    "* using lstrip() for removing space from start.\n",
    "* using rstrip() for removing space from end.\n",
    "* strip() does both at same time."
   ]
  },
  {
   "cell_type": "code",
   "execution_count": 12,
   "metadata": {},
   "outputs": [
    {
     "name": "stdout",
     "output_type": "stream",
     "text": [
      "I am happy.\n",
      "I am happy.\n"
     ]
    }
   ],
   "source": [
    "print(sr.lstrip())\n",
    "print(sl.rstrip())"
   ]
  },
  {
   "cell_type": "code",
   "execution_count": 13,
   "metadata": {},
   "outputs": [
    {
     "name": "stdout",
     "output_type": "stream",
     "text": [
      "I am happy.\n",
      "I am happy.\n",
      "I am happy.\n"
     ]
    }
   ],
   "source": [
    "print(sc.strip())\n",
    "print(sl.strip())\n",
    "print(sr.strip())"
   ]
  },
  {
   "cell_type": "code",
   "execution_count": null,
   "metadata": {},
   "outputs": [],
   "source": []
  },
  {
   "cell_type": "code",
   "execution_count": null,
   "metadata": {},
   "outputs": [],
   "source": []
  }
 ],
 "metadata": {
  "kernelspec": {
   "display_name": "Python 3",
   "language": "python",
   "name": "python3"
  },
  "language_info": {
   "codemirror_mode": {
    "name": "ipython",
    "version": 3
   },
   "file_extension": ".py",
   "mimetype": "text/x-python",
   "name": "python",
   "nbconvert_exporter": "python",
   "pygments_lexer": "ipython3",
   "version": "3.6.10"
  }
 },
 "nbformat": 4,
 "nbformat_minor": 4
}
