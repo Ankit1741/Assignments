{
 "cells": [
  {
   "cell_type": "markdown",
   "id": "4bc69785",
   "metadata": {},
   "source": [
    "# Question 1 Create a function that takes a list of non-negative integers and strings and return a new list without the strings.\n",
    "## Examples\n",
    "## filter_list([1, 2, &quot;a&quot;, &quot;b&quot;]) ➞ [1, 2]\n",
    "## filter_list([1, &quot;a&quot;, &quot;b&quot;, 0, 15]) ➞ [1, 0, 15]\n",
    "## filter_list([1, 2, &quot;aasf&quot;, &quot;1&quot;, &quot;123&quot;, 123]) ➞ [1, 2, 123]"
   ]
  },
  {
   "cell_type": "code",
   "execution_count": 1,
   "id": "9d325560",
   "metadata": {},
   "outputs": [
    {
     "data": {
      "text/plain": [
       "[1, 0, 15]"
      ]
     },
     "execution_count": 1,
     "metadata": {},
     "output_type": "execute_result"
    }
   ],
   "source": [
    "def filter_list(lst):\n",
    "    new_lst = []\n",
    "    for i in lst:\n",
    "        if type(i)==int:\n",
    "            new_lst.append(i)\n",
    "            \n",
    "    return new_lst\n",
    "\n",
    "filter_list([1, \"a\", \"b\", 0, 15])"
   ]
  },
  {
   "cell_type": "markdown",
   "id": "5d640174",
   "metadata": {},
   "source": [
    "# Question 2 The &quot;Reverser&quot; takes a string as input and returns that string in reverse order, with the opposite case.\n",
    "## Examples\n",
    "## reverse(&quot;Hello World&quot;) ➞ &quot;DLROw OLLEh&quot;\n",
    "## reverse(&quot;ReVeRsE&quot;) ➞ &quot;eSrEvEr&quot;\n",
    "## reverse(&quot;Radar&quot;) ➞ &quot;RADAr&quot;"
   ]
  },
  {
   "cell_type": "code",
   "execution_count": 2,
   "id": "24318ab9",
   "metadata": {},
   "outputs": [
    {
     "data": {
      "text/plain": [
       "'DLROw OLLEh'"
      ]
     },
     "execution_count": 2,
     "metadata": {},
     "output_type": "execute_result"
    }
   ],
   "source": [
    "def reverse(s):\n",
    "    s = s[::-1]\n",
    "    return s.swapcase()\n",
    "\n",
    "reverse(\"Hello World\")"
   ]
  },
  {
   "cell_type": "markdown",
   "id": "58515dba",
   "metadata": {},
   "source": [
    "# Question 3 You can assign variables from lists like this:\n",
    "## lst = [1, 2, 3, 4, 5, 6]\n",
    "## first = lst[0]\n",
    "## middle = lst[1:-1]\n",
    "## last = lst[-1]\n",
    "## print(first) ➞ outputs 1\n",
    "## print(middle) ➞ outputs [2, 3, 4, 5]\n",
    "## print(last) ➞ outputs 6\n",
    "## With Python 3, you can assign variables from lists in a much more succinct way. Create variables first, middle and last from the given list using destructuring assignment (check the Resources tab for some examples), where:\n",
    "## first ➞ 1\n",
    "## middle ➞ [2, 3, 4, 5]\n",
    "## last ➞ 6\n",
    "\n",
    "## Your task is to unpack the list writeyourcodehere into three variables, being first, middle, and last, with middle being everything in between the first and last element. Then print all three variables."
   ]
  },
  {
   "cell_type": "code",
   "execution_count": 3,
   "id": "e1f25bdb",
   "metadata": {},
   "outputs": [
    {
     "name": "stdout",
     "output_type": "stream",
     "text": [
      "1\n",
      "[2, 3, 4, 5, 6, 7]\n",
      "8\n"
     ]
    }
   ],
   "source": [
    "def unpack(lst):\n",
    "    return lst[0], lst[1:-1], lst[-1]\n",
    "\n",
    "first, middle, last = unpack([1,2,3,4,5,6,7,8])\n",
    "print(first)\n",
    "print(middle)\n",
    "print(last)"
   ]
  },
  {
   "cell_type": "markdown",
   "id": "a01ad3ca",
   "metadata": {},
   "source": [
    "# Question 4 Write a function that calculates the factorial of a number recursively.\n",
    "## Examples\n",
    "## factorial(5) ➞ 120\n",
    "## factorial(3) ➞ 6\n",
    "## factorial(1) ➞ 1\n",
    "## factorial(0) ➞ 1"
   ]
  },
  {
   "cell_type": "code",
   "execution_count": 4,
   "id": "29d4323c",
   "metadata": {},
   "outputs": [
    {
     "data": {
      "text/plain": [
       "120"
      ]
     },
     "execution_count": 4,
     "metadata": {},
     "output_type": "execute_result"
    }
   ],
   "source": [
    "def fac(n):\n",
    "    if n<=1:\n",
    "        return 1\n",
    "    return n*fac(n-1)\n",
    "\n",
    "fac(5)"
   ]
  },
  {
   "cell_type": "markdown",
   "id": "94013cf1",
   "metadata": {},
   "source": [
    "# Question 5 Write a function that moves all elements of one type to the end of the list.\n",
    "## Examples\n",
    "## move_to_end([1, 3, 2, 4, 4, 1], 1) ➞ [3, 2, 4, 4, 1, 1]\n",
    "### Move all the 1s to the end of the array.\n",
    "## move_to_end([7, 8, 9, 1, 2, 3, 4], 9) ➞ [7, 8, 1, 2, 3, 4, 9]\n",
    "## move_to_end([&quot;a&quot;, &quot;a&quot;, &quot;a&quot;, &quot;b&quot;], &quot;a&quot;) ➞ [&quot;b&quot;, &quot;a&quot;, &quot;a&quot;, &quot;a&quot;]"
   ]
  },
  {
   "cell_type": "code",
   "execution_count": 5,
   "id": "d5c54981",
   "metadata": {},
   "outputs": [
    {
     "data": {
      "text/plain": [
       "[3, 2, 4, 4, 1, 1]"
      ]
     },
     "execution_count": 5,
     "metadata": {},
     "output_type": "execute_result"
    }
   ],
   "source": [
    "def move_to_end(lst, n):\n",
    "    for i in lst:\n",
    "        if i==n:\n",
    "            lst.remove(i)\n",
    "            lst.append(i)\n",
    "            \n",
    "    return lst\n",
    "\n",
    "move_to_end([1, 3, 2, 4, 4, 1], 1)"
   ]
  },
  {
   "cell_type": "code",
   "execution_count": 6,
   "id": "45677f1c",
   "metadata": {},
   "outputs": [
    {
     "data": {
      "text/plain": [
       "[7, 8, 1, 2, 3, 4, 9]"
      ]
     },
     "execution_count": 6,
     "metadata": {},
     "output_type": "execute_result"
    }
   ],
   "source": [
    "move_to_end([7, 8, 9, 1, 2, 3, 4], 9)"
   ]
  },
  {
   "cell_type": "code",
   "execution_count": 7,
   "id": "d901411e",
   "metadata": {},
   "outputs": [
    {
     "data": {
      "text/plain": [
       "['b', 'a', 'a', 'a']"
      ]
     },
     "execution_count": 7,
     "metadata": {},
     "output_type": "execute_result"
    }
   ],
   "source": [
    "move_to_end([\"a\", \"a\", \"a\", \"b\"], \"a\")"
   ]
  },
  {
   "cell_type": "code",
   "execution_count": null,
   "id": "5b904606",
   "metadata": {},
   "outputs": [],
   "source": []
  }
 ],
 "metadata": {
  "kernelspec": {
   "display_name": "Python 3 (ipykernel)",
   "language": "python",
   "name": "python3"
  },
  "language_info": {
   "codemirror_mode": {
    "name": "ipython",
    "version": 3
   },
   "file_extension": ".py",
   "mimetype": "text/x-python",
   "name": "python",
   "nbconvert_exporter": "python",
   "pygments_lexer": "ipython3",
   "version": "3.9.7"
  }
 },
 "nbformat": 4,
 "nbformat_minor": 5
}
