{
 "cells": [
  {
   "cell_type": "markdown",
   "id": "6fdfe4df",
   "metadata": {},
   "source": [
    "# Question 1: Define a class with a generator which can iterate the numbers, which are divisible by 7, between a given range 0 and n."
   ]
  },
  {
   "cell_type": "code",
   "execution_count": 1,
   "id": "5a18d3c9",
   "metadata": {},
   "outputs": [
    {
     "name": "stdout",
     "output_type": "stream",
     "text": [
      "0\n",
      "7\n",
      "14\n",
      "21\n",
      "28\n",
      "35\n",
      "42\n",
      "49\n",
      "56\n",
      "63\n",
      "70\n",
      "77\n",
      "84\n",
      "91\n",
      "98\n"
     ]
    }
   ],
   "source": [
    "class myClass:\n",
    "    def __init__(self, n):\n",
    "        self.n = n\n",
    "        \n",
    "    def div7(self):\n",
    "        for i in range(self.n):\n",
    "            if i%7==0:\n",
    "                yield i\n",
    "    \n",
    "\n",
    "obj = myClass(100)\n",
    "\n",
    "for i in obj.div7():\n",
    "    print(i)"
   ]
  },
  {
   "cell_type": "markdown",
   "id": "ecfaeab7",
   "metadata": {},
   "source": [
    "# Question 2: Write a program to compute the frequency of the words from the input. The output should output after sorting the key alphanumerically. Suppose the following input is supplied to the program:\n",
    "## New to Python or choosing between Python 2 and Python 3? Read Python 2 or Python 3.\n",
    "##  Then, the output should be:\n",
    "## 2:2\n",
    "## 3.:1\n",
    "## 3?:1\n",
    "## New:1\n",
    "## Python:5\n",
    "## Read:1\n",
    "## and:1\n",
    "## between:1\n",
    "## choosing:1\n",
    "## or:2\n",
    "## to:1"
   ]
  },
  {
   "cell_type": "code",
   "execution_count": 2,
   "id": "96305f94",
   "metadata": {},
   "outputs": [
    {
     "name": "stdout",
     "output_type": "stream",
     "text": [
      "New to Python or choosing between Python 2 and Python 3? Read Python 2 or Python 3.\n",
      "2:2\n",
      "3.:1\n",
      "3?:1\n",
      "New:1\n",
      "Python:5\n",
      "Read:1\n",
      "and:1\n",
      "between:1\n",
      "choosing:1\n",
      "or:2\n",
      "to:1\n"
     ]
    }
   ],
   "source": [
    "n = input()\n",
    "dic = {}\n",
    "\n",
    "lst = n.split(' ')\n",
    "\n",
    "for i in lst:\n",
    "    dic[i] = n.count(i)\n",
    "    \n",
    "for i in sorted(dic.keys()):\n",
    "    print(str(i)+':'+str(dic[i]))"
   ]
  },
  {
   "cell_type": "markdown",
   "id": "8aea8e40",
   "metadata": {},
   "source": [
    "# Question 3:Define a class Person and its two child classes: Male and Female. All classes have a method &quot;getGender&quot; which can print &quot;Male&quot; for Male class and &quot;Female&quot; for Female class."
   ]
  },
  {
   "cell_type": "code",
   "execution_count": 3,
   "id": "9d1c00d3",
   "metadata": {},
   "outputs": [
    {
     "data": {
      "text/plain": [
       "'Male'"
      ]
     },
     "execution_count": 3,
     "metadata": {},
     "output_type": "execute_result"
    }
   ],
   "source": [
    "class Person:\n",
    "    def getGender(self):\n",
    "        return 'xyz'\n",
    "    \n",
    "class Male(Person):\n",
    "    def getGender(self):\n",
    "        return 'Male'\n",
    "    \n",
    "class Female(Person):\n",
    "    def getGender(self):\n",
    "        return 'Female'\n",
    "    \n",
    "abc = Male()\n",
    "\n",
    "abc.getGender()"
   ]
  },
  {
   "cell_type": "markdown",
   "id": "91fd9187",
   "metadata": {},
   "source": [
    "# Question 4: Please write a program to generate all sentences where subject is in [&quot;I&quot;, &quot;You&quot;] and verb is in [&quot;Play&quot;, &quot;Love&quot;] and the object is in [&quot;Hockey&quot;,&quot;Football&quot;]."
   ]
  },
  {
   "cell_type": "code",
   "execution_count": 4,
   "id": "e88a3f7d",
   "metadata": {},
   "outputs": [
    {
     "name": "stdout",
     "output_type": "stream",
     "text": [
      "I Play Hockey\n",
      "I Play Football\n",
      "I Love Hockey\n",
      "I Love Football\n",
      "You Play Hockey\n",
      "You Play Football\n",
      "You Love Hockey\n",
      "You Love Football\n"
     ]
    }
   ],
   "source": [
    "sub = [\"I\", \"You\"]\n",
    "verb = [\"Play\", \"Love\"]\n",
    "obj = [\"Hockey\",\"Football\"]\n",
    "\n",
    "for s in sub:\n",
    "    for v in verb:\n",
    "        for o in obj:\n",
    "            print(s+' '+v+' '+o)"
   ]
  },
  {
   "cell_type": "markdown",
   "id": "65bd9ed8",
   "metadata": {},
   "source": [
    "# Question 5: Please write a program to compress and decompress the string &quot;hello world!hello world!hello world!hello world!&quot;."
   ]
  },
  {
   "cell_type": "code",
   "execution_count": 5,
   "id": "e800252f",
   "metadata": {},
   "outputs": [
    {
     "name": "stdout",
     "output_type": "stream",
     "text": [
      "Compressed:  b'x\\x9c\\xcbH\\xcd\\xc9\\xc9W(\\xcf/\\xcaIQ\\xcc \\x82\\r\\x00\\xbd[\\x11\\xf5'\n",
      "Decompressed:  b'hello world!hello world!hello world!hello world!'\n"
     ]
    }
   ],
   "source": [
    "import zlib\n",
    "\n",
    "\n",
    "text=b\"hello world!hello world!hello world!hello world!\"\n",
    "\n",
    "comp=zlib.compress(text)\n",
    "print(\"Compressed: \", comp)\n",
    "\n",
    "decomp=zlib.decompress(comp)\n",
    "print(\"Decompressed: \", decomp)"
   ]
  },
  {
   "cell_type": "markdown",
   "id": "dad53c72",
   "metadata": {},
   "source": [
    "# Question 6: Please write a binary search function which searches an item in a sorted list. The function should return the index of element to be searched in the list."
   ]
  },
  {
   "cell_type": "code",
   "execution_count": 6,
   "id": "1cb28b2d",
   "metadata": {},
   "outputs": [
    {
     "data": {
      "text/plain": [
       "1"
      ]
     },
     "execution_count": 6,
     "metadata": {},
     "output_type": "execute_result"
    }
   ],
   "source": [
    "n = 2\n",
    "lst = [1,2,3,4,5,8]\n",
    "lst.sort()\n",
    "k = len(lst)\n",
    "def bsf(n, l, h, lst):\n",
    "    if len(lst)>=0:\n",
    "        mid = (l+h)//2\n",
    "        if n==lst[mid]:\n",
    "            return mid\n",
    "        elif n>lst[mid]:\n",
    "            return bsf(n, mid+1, h, lst)\n",
    "        else:\n",
    "            return bsf(n, 0, mid, lst)\n",
    "        \n",
    "bsf(n,0,k, lst)\n",
    "        "
   ]
  },
  {
   "cell_type": "code",
   "execution_count": null,
   "id": "3b29a5ad",
   "metadata": {},
   "outputs": [],
   "source": []
  },
  {
   "cell_type": "code",
   "execution_count": null,
   "id": "8b25239d",
   "metadata": {},
   "outputs": [],
   "source": []
  },
  {
   "cell_type": "code",
   "execution_count": null,
   "id": "d17d3ef9",
   "metadata": {},
   "outputs": [],
   "source": []
  }
 ],
 "metadata": {
  "kernelspec": {
   "display_name": "Python 3 (ipykernel)",
   "language": "python",
   "name": "python3"
  },
  "language_info": {
   "codemirror_mode": {
    "name": "ipython",
    "version": 3
   },
   "file_extension": ".py",
   "mimetype": "text/x-python",
   "name": "python",
   "nbconvert_exporter": "python",
   "pygments_lexer": "ipython3",
   "version": "3.9.7"
  }
 },
 "nbformat": 4,
 "nbformat_minor": 5
}
