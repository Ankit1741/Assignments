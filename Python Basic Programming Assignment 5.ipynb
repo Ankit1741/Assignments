{
 "cells": [
  {
   "cell_type": "markdown",
   "metadata": {},
   "source": [
    "# 1. Write a Python Program to Find HCF?"
   ]
  },
  {
   "cell_type": "code",
   "execution_count": 1,
   "metadata": {},
   "outputs": [
    {
     "data": {
      "text/plain": [
       "1"
      ]
     },
     "execution_count": 1,
     "metadata": {},
     "output_type": "execute_result"
    }
   ],
   "source": [
    "def HCF(a, b):\n",
    "    if a==b:\n",
    "        return a\n",
    "    if a>b:\n",
    "        return HCF(a-b, b)\n",
    "    else:\n",
    "        return HCF(a, b-a)\n",
    "    \n",
    "HCF(15, 13)"
   ]
  },
  {
   "cell_type": "markdown",
   "metadata": {},
   "source": [
    "# 2. Write a Python Program to Find LCM?"
   ]
  },
  {
   "cell_type": "code",
   "execution_count": 2,
   "metadata": {},
   "outputs": [
    {
     "data": {
      "text/plain": [
       "4"
      ]
     },
     "execution_count": 2,
     "metadata": {},
     "output_type": "execute_result"
    }
   ],
   "source": [
    "def lcm(a ,b):\n",
    "    return (a*b)//HCF(a, b) # lcm*hcf = a*b\n",
    "\n",
    "lcm(2,4)"
   ]
  },
  {
   "cell_type": "markdown",
   "metadata": {},
   "source": [
    "# 3. Write a Python Program to Convert Decimal to Binary, Octal and Hexadecimal?"
   ]
  },
  {
   "cell_type": "code",
   "execution_count": 3,
   "metadata": {},
   "outputs": [
    {
     "name": "stdout",
     "output_type": "stream",
     "text": [
      "1000\n"
     ]
    }
   ],
   "source": [
    "# Decimal to Binary\n",
    "\n",
    "def binary(n):\n",
    "    s = ''\n",
    "    while n>0:\n",
    "        s = s+str(n%2)\n",
    "        n = n//2\n",
    "    print(s[::-1])\n",
    "binary(8)"
   ]
  },
  {
   "cell_type": "code",
   "execution_count": 4,
   "metadata": {},
   "outputs": [
    {
     "name": "stdout",
     "output_type": "stream",
     "text": [
      "536\n"
     ]
    }
   ],
   "source": [
    "# decima to octal:\n",
    "\n",
    "def octal(n):\n",
    "    s = ''\n",
    "    while n>0:\n",
    "        s = s+str(n%8)\n",
    "        n = n//8\n",
    "    print(s[::-1])\n",
    "    \n",
    "octal(350)"
   ]
  },
  {
   "cell_type": "code",
   "execution_count": 5,
   "metadata": {},
   "outputs": [
    {
     "name": "stdout",
     "output_type": "stream",
     "text": [
      "21C\n"
     ]
    }
   ],
   "source": [
    "# decimal to hexadecimal\n",
    "\n",
    "def hexa(n):\n",
    "    s = ''\n",
    "    while n>0:\n",
    "        if n%16<10:\n",
    "            s = s+str(n%16)\n",
    "        elif n%16==10:\n",
    "            s = s+'A'\n",
    "        elif n%16==11:\n",
    "            s = s+'B'\n",
    "        elif n%16==12:\n",
    "            s = s+'C'\n",
    "        elif n%16==13:\n",
    "            s = s+'D'\n",
    "        elif n%16==14:\n",
    "            s = s+'E'\n",
    "        elif n%16==15:\n",
    "            s = s+'F'\n",
    "        n = n//16\n",
    "    print(s[::-1])\n",
    "    \n",
    "hexa(540)"
   ]
  },
  {
   "cell_type": "markdown",
   "metadata": {},
   "source": [
    "# 4. Write a Python Program To Find ASCII value of a character?"
   ]
  },
  {
   "cell_type": "code",
   "execution_count": 6,
   "metadata": {},
   "outputs": [
    {
     "data": {
      "text/plain": [
       "65"
      ]
     },
     "execution_count": 6,
     "metadata": {},
     "output_type": "execute_result"
    }
   ],
   "source": [
    "def asci(n):\n",
    "    return ord(n)\n",
    "\n",
    "asci('A')"
   ]
  },
  {
   "cell_type": "markdown",
   "metadata": {},
   "source": [
    "# 5. Write a Python Program to Make a Simple Calculator with 4 basic mathematical operations?"
   ]
  },
  {
   "cell_type": "code",
   "execution_count": 7,
   "metadata": {},
   "outputs": [
    {
     "name": "stdout",
     "output_type": "stream",
     "text": [
      "Enter the calculation required: 20/4\n",
      "5.0\n"
     ]
    }
   ],
   "source": [
    "def add(x, y):\n",
    "    return x+y\n",
    "def sub(x, y):\n",
    "    return x-y\n",
    "def mul(x, y):\n",
    "    return x*y\n",
    "def div(x, y):\n",
    "    return x/y\n",
    "\n",
    "def calci():\n",
    "    a = input(\"Enter the calculation required: \")\n",
    "    if '+' in a:\n",
    "        l = a.split('+')\n",
    "        x = int(l[0])\n",
    "        y = int(l[1])\n",
    "        print(add(x,y))\n",
    "    if '-' in a:\n",
    "        l = a.split('-')\n",
    "        x = int(l[0])\n",
    "        y = int(l[1])\n",
    "        print(sub(x,y))\n",
    "        \n",
    "    if '*' in a:\n",
    "        l = a.split('*')\n",
    "        x = int(l[0])\n",
    "        y = int(l[1])\n",
    "        print(mul(x,y))\n",
    "        \n",
    "    if '/' in a:\n",
    "        l = a.split('/')\n",
    "        x = int(l[0])\n",
    "        y = int(l[1])\n",
    "        print(div(x,y))\n",
    "        \n",
    "calci()"
   ]
  },
  {
   "cell_type": "code",
   "execution_count": null,
   "metadata": {},
   "outputs": [],
   "source": []
  },
  {
   "cell_type": "code",
   "execution_count": null,
   "metadata": {},
   "outputs": [],
   "source": []
  },
  {
   "cell_type": "code",
   "execution_count": null,
   "metadata": {},
   "outputs": [],
   "source": []
  },
  {
   "cell_type": "code",
   "execution_count": null,
   "metadata": {},
   "outputs": [],
   "source": []
  },
  {
   "cell_type": "code",
   "execution_count": null,
   "metadata": {},
   "outputs": [],
   "source": []
  },
  {
   "cell_type": "code",
   "execution_count": null,
   "metadata": {},
   "outputs": [],
   "source": []
  }
 ],
 "metadata": {
  "kernelspec": {
   "display_name": "Python 3",
   "language": "python",
   "name": "python3"
  },
  "language_info": {
   "codemirror_mode": {
    "name": "ipython",
    "version": 3
   },
   "file_extension": ".py",
   "mimetype": "text/x-python",
   "name": "python",
   "nbconvert_exporter": "python",
   "pygments_lexer": "ipython3",
   "version": "3.6.10"
  }
 },
 "nbformat": 4,
 "nbformat_minor": 4
}
