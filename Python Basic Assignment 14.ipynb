{
 "cells": [
  {
   "cell_type": "markdown",
   "id": "e9bfa93b",
   "metadata": {},
   "source": [
    "# 1. What does RGBA stand for?\n",
    "\n",
    "RED-GREEN-BLUE-ALPHA"
   ]
  },
  {
   "cell_type": "markdown",
   "id": "5f1eccf6",
   "metadata": {},
   "source": [
    "# 2. From the Pillow module, how do you get the RGBA value of any images?\n",
    "\n",
    "Using ImageColor.getcolor(imageName, 'RGBA')."
   ]
  },
  {
   "cell_type": "markdown",
   "id": "3319e768",
   "metadata": {},
   "source": [
    "# 3. What is a box tuple, and how does it work?\n",
    "\n",
    "A box tuple is a tuple value of four integers: the left edge x-coordinate, the top edge y-coordinate, the width, and the height. Pillow module's many methods take box tuples as arguments."
   ]
  },
  {
   "cell_type": "markdown",
   "id": "adfc0774",
   "metadata": {},
   "source": [
    "# 4. Use your image and load in notebook then, How can you find out the width and height of an Image object?\n",
    "\n",
    "using imageobject.size, we will get tuple of the width and height of an Image Object."
   ]
  },
  {
   "cell_type": "markdown",
   "id": "bd28e17b",
   "metadata": {},
   "source": [
    "# 5. What method would you call to get Image object for a 100×100 image, excluding the lower-left quarter of it?\n",
    "\n",
    "using imageobject.crop((0, 50, 50, 50))."
   ]
  },
  {
   "cell_type": "markdown",
   "id": "4e40aa72",
   "metadata": {},
   "source": [
    "# 6. After making changes to an Image object, how could you save it as an image file?\n",
    "\n",
    "Using imageobject.save('name.jpg')."
   ]
  },
  {
   "cell_type": "markdown",
   "id": "c00b34a4",
   "metadata": {},
   "source": [
    "# 7. What module contains Pillow’s shape-drawing code?\n",
    "\n",
    "The ImageDraw module contains the shape-drawing code."
   ]
  },
  {
   "cell_type": "markdown",
   "id": "e3b1ba34",
   "metadata": {},
   "source": [
    "# 8. Image objects do not have drawing methods. What kind of object does? How do you get this kind of object?\n",
    "\n",
    "ImageDraw objects have drawing methods.<br>\n",
    "These objects are got by passing the Image object to ImageDraw.Draw() method."
   ]
  },
  {
   "cell_type": "code",
   "execution_count": null,
   "id": "df5fdb8c",
   "metadata": {},
   "outputs": [],
   "source": []
  }
 ],
 "metadata": {
  "kernelspec": {
   "display_name": "Python 3 (ipykernel)",
   "language": "python",
   "name": "python3"
  },
  "language_info": {
   "codemirror_mode": {
    "name": "ipython",
    "version": 3
   },
   "file_extension": ".py",
   "mimetype": "text/x-python",
   "name": "python",
   "nbconvert_exporter": "python",
   "pygments_lexer": "ipython3",
   "version": "3.9.7"
  }
 },
 "nbformat": 4,
 "nbformat_minor": 5
}
