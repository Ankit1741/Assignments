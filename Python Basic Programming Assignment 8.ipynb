{
 "cells": [
  {
   "cell_type": "markdown",
   "metadata": {},
   "source": [
    "# 1. Write a Python Program to Add Two Matrices?"
   ]
  },
  {
   "cell_type": "code",
   "execution_count": 5,
   "metadata": {},
   "outputs": [
    {
     "data": {
      "text/plain": [
       "[[2, 4, 6], [4, 6, 8]]"
      ]
     },
     "execution_count": 5,
     "metadata": {},
     "output_type": "execute_result"
    }
   ],
   "source": [
    "def matadd(x, y):\n",
    "    summ = []\n",
    "    for i in range(len(x)):\n",
    "        summ.append([])\n",
    "        for j in range(len(x[i])):\n",
    "            summ[i].append(x[i][j]+y[i][j])\n",
    "    return summ        \n",
    "    \n",
    "a = [[1,2,3],\n",
    "     [2,3,4]]\n",
    "b = [[1,2,3],\n",
    "     [2,3,4]]\n",
    "\n",
    "matadd(a, b)\n",
    "        \n",
    "    \n",
    "            "
   ]
  },
  {
   "cell_type": "markdown",
   "metadata": {},
   "source": [
    "# 2. Write a Python Program to Multiply Two Matrices?"
   ]
  },
  {
   "cell_type": "code",
   "execution_count": 9,
   "metadata": {},
   "outputs": [
    {
     "name": "stdout",
     "output_type": "stream",
     "text": [
      "[[21, 27, 33], [57, 72, 87]]\n"
     ]
    }
   ],
   "source": [
    "def matrix_mul(A, B):\n",
    "    res=[]\n",
    "    \n",
    "    if(len(B)!=len(A[0])):\n",
    "        print(\"multiplication not possible\")\n",
    "    \n",
    "    else:\n",
    "        for i in range(len(A)):\n",
    "            mnp=[]\n",
    "            for j in range(len(B[0])):\n",
    "                x=0\n",
    "                for k in range(len(B)):\n",
    "                    x+=A[i][k]*B[k][j]\n",
    "                mnp.append(x)\n",
    "            res.append(mnp)\n",
    "        print(res)\n",
    "\n",
    "a = [[1,2,3],\n",
    "     [4,5,6]]\n",
    "b = [[4,5,6],\n",
    "     [7,8,9],\n",
    "     [1,2,3]]\n",
    "\n",
    "\n",
    "\n",
    "matrix_mul(a, b)"
   ]
  },
  {
   "cell_type": "markdown",
   "metadata": {},
   "source": [
    "# 3. Write a Python Program to Transpose a Matrix?"
   ]
  },
  {
   "cell_type": "code",
   "execution_count": 15,
   "metadata": {},
   "outputs": [
    {
     "data": {
      "text/plain": [
       "[[1, 4], [2, 5], [3, 6]]"
      ]
     },
     "execution_count": 15,
     "metadata": {},
     "output_type": "execute_result"
    }
   ],
   "source": [
    "def matT(x):\n",
    "    res = []\n",
    "    \n",
    "    for j in range(len(x[0])):\n",
    "        r = []\n",
    "        for i in range(len(x)):\n",
    "            r.append(x[i][j])\n",
    "        res.append(r)\n",
    "        \n",
    "    return res\n",
    "\n",
    "\n",
    "a = [[1,2,3],\n",
    "     [4,5,6]]\n",
    "matT(a)"
   ]
  },
  {
   "cell_type": "markdown",
   "metadata": {},
   "source": [
    "# 4. Write a Python Program to Sort Words in Alphabetic Order?"
   ]
  },
  {
   "cell_type": "code",
   "execution_count": 17,
   "metadata": {},
   "outputs": [
    {
     "data": {
      "text/plain": [
       "['apple', 'guava', 'mango', 'orange']"
      ]
     },
     "execution_count": 17,
     "metadata": {},
     "output_type": "execute_result"
    }
   ],
   "source": [
    "a = ['mango', 'orange', 'guava','apple']\n",
    "a.sort()\n",
    "a"
   ]
  },
  {
   "cell_type": "markdown",
   "metadata": {},
   "source": [
    "# 5. Write a Python Program to Remove Punctuation From a String?"
   ]
  },
  {
   "cell_type": "code",
   "execution_count": 19,
   "metadata": {},
   "outputs": [
    {
     "data": {
      "text/plain": [
       "'Hello how are you ?'"
      ]
     },
     "execution_count": 19,
     "metadata": {},
     "output_type": "execute_result"
    }
   ],
   "source": [
    "a = 'Hello! how are you ?'\n",
    "b = a.replace('!', '')\n",
    "b"
   ]
  },
  {
   "cell_type": "code",
   "execution_count": null,
   "metadata": {},
   "outputs": [],
   "source": []
  },
  {
   "cell_type": "code",
   "execution_count": null,
   "metadata": {},
   "outputs": [],
   "source": []
  },
  {
   "cell_type": "code",
   "execution_count": null,
   "metadata": {},
   "outputs": [],
   "source": []
  },
  {
   "cell_type": "code",
   "execution_count": null,
   "metadata": {},
   "outputs": [],
   "source": []
  },
  {
   "cell_type": "code",
   "execution_count": null,
   "metadata": {},
   "outputs": [],
   "source": []
  },
  {
   "cell_type": "code",
   "execution_count": null,
   "metadata": {},
   "outputs": [],
   "source": []
  }
 ],
 "metadata": {
  "kernelspec": {
   "display_name": "Python 3",
   "language": "python",
   "name": "python3"
  },
  "language_info": {
   "codemirror_mode": {
    "name": "ipython",
    "version": 3
   },
   "file_extension": ".py",
   "mimetype": "text/x-python",
   "name": "python",
   "nbconvert_exporter": "python",
   "pygments_lexer": "ipython3",
   "version": "3.6.10"
  }
 },
 "nbformat": 4,
 "nbformat_minor": 4
}
