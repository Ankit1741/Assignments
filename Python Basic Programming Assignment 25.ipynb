{
 "cells": [
  {
   "cell_type": "markdown",
   "id": "6ce499e0",
   "metadata": {},
   "source": [
    "# Question1 Create a function that takes three integer arguments (a, b, c) and returns the amount of integers which are of equal value.\n",
    "## Examples\n",
    "## equal(3, 4, 3) ➞ 2\n",
    "## equal(1, 1, 1) ➞ 3\n",
    "## equal(3, 4, 1) ➞ 0\n",
    "## Notes\n",
    "## Your function must return 0, 2 or 3."
   ]
  },
  {
   "cell_type": "code",
   "execution_count": 1,
   "id": "5ef338b2",
   "metadata": {},
   "outputs": [
    {
     "data": {
      "text/plain": [
       "2"
      ]
     },
     "execution_count": 1,
     "metadata": {},
     "output_type": "execute_result"
    }
   ],
   "source": [
    "def equal(x,y,z):\n",
    "    lst = [x,y,z]\n",
    "    st = set(lst)\n",
    "    if len(st)==1:\n",
    "        return 3\n",
    "    elif len(st)==2:\n",
    "        return 2\n",
    "    else:\n",
    "        return 0\n",
    "    \n",
    "equal(3, 4, 3)"
   ]
  },
  {
   "cell_type": "code",
   "execution_count": 2,
   "id": "ba9e8c69",
   "metadata": {},
   "outputs": [
    {
     "data": {
      "text/plain": [
       "3"
      ]
     },
     "execution_count": 2,
     "metadata": {},
     "output_type": "execute_result"
    }
   ],
   "source": [
    "equal(1, 1, 1)"
   ]
  },
  {
   "cell_type": "code",
   "execution_count": 3,
   "id": "bf985ed8",
   "metadata": {},
   "outputs": [
    {
     "data": {
      "text/plain": [
       "0"
      ]
     },
     "execution_count": 3,
     "metadata": {},
     "output_type": "execute_result"
    }
   ],
   "source": [
    "equal(1, 3, 4)"
   ]
  },
  {
   "cell_type": "markdown",
   "id": "50c4ea29",
   "metadata": {},
   "source": [
    "# Question2 Write a function that converts a dictionary into a list of keys-values tuples.\n",
    "## Examples\n",
    "## dict_to_list({ &quot;D&quot;: 1, &quot;B&quot;: 2, &quot;C&quot;: 3}) ➞ [(&quot;B&quot;, 2), (&quot;C&quot;, 3), (&quot;D&quot;, 1)]\n",
    "## dict_to_list({ &quot;likes&quot;: 2,&quot;dislikes&quot;: 3,&quot;followers&quot;: 10}) ➞[(&quot;dislikes&quot;, 3), (&quot;followers&quot;, 10), (&quot;likes&quot;, 2)]\n",
    "## Notes\n",
    "## Return the elements in the list in alphabetical order."
   ]
  },
  {
   "cell_type": "code",
   "execution_count": 4,
   "id": "d9b35456",
   "metadata": {},
   "outputs": [
    {
     "data": {
      "text/plain": [
       "[('B', 2), ('C', 3), ('D', 1)]"
      ]
     },
     "execution_count": 4,
     "metadata": {},
     "output_type": "execute_result"
    }
   ],
   "source": [
    "def myfun(x):\n",
    "    return x[0]\n",
    "\n",
    "def dict_to_list(d):\n",
    "    return sorted(list(d.items()), key=myfun)\n",
    "    \n",
    "\n",
    "dict_to_list({ \"D\": 1, \"B\": 2, \"C\": 3})"
   ]
  },
  {
   "cell_type": "code",
   "execution_count": 5,
   "id": "05567c46",
   "metadata": {},
   "outputs": [
    {
     "data": {
      "text/plain": [
       "[('dislikes', 3), ('followers', 10), ('likes', 2)]"
      ]
     },
     "execution_count": 5,
     "metadata": {},
     "output_type": "execute_result"
    }
   ],
   "source": [
    "dict_to_list({ \"likes\": 2,\"dislikes\": 3,\"followers\": 10})"
   ]
  },
  {
   "cell_type": "markdown",
   "id": "df9a2a8f",
   "metadata": {},
   "source": [
    "# Question3 Write a function that creates a dictionary with each (key, value) pair being the (lower case, upper case) versions of a letter, respectively.\n",
    "## Examples\n",
    "## mapping([&quot;p&quot;, &quot;s&quot;]) ➞ { &quot;p&quot;: &quot;P&quot;, &quot;s&quot;: &quot;S&quot; }\n",
    "\n",
    "## mapping([&quot;a&quot;, &quot;b&quot;, &quot;c&quot;]) ➞ { &quot;a&quot;: &quot;A&quot;, &quot;b&quot;: &quot;B&quot;, &quot;c&quot;: &quot;C&quot; }\n",
    "\n",
    "## mapping([&quot;a&quot;, &quot;v&quot;, &quot;y&quot;, &quot;z&quot;]) ➞ { &quot;a&quot;: &quot;A&quot;, &quot;v&quot;: &quot;V&quot;, &quot;y&quot;: &quot;Y&quot;, &quot;z&quot;: &quot;Z&quot; }\n",
    "\n",
    "## Notes\n",
    "## All of the letters in the input list will always be lowercase."
   ]
  },
  {
   "cell_type": "code",
   "execution_count": 6,
   "id": "15ccb8db",
   "metadata": {},
   "outputs": [
    {
     "data": {
      "text/plain": [
       "{'p': 'P', 's': 'S'}"
      ]
     },
     "execution_count": 6,
     "metadata": {},
     "output_type": "execute_result"
    }
   ],
   "source": [
    "def mapping(l):\n",
    "    dic = {}\n",
    "    for i in l:\n",
    "        dic[i] = i.upper()\n",
    "        \n",
    "    return dic \n",
    "mapping([\"p\", \"s\"])\n"
   ]
  },
  {
   "cell_type": "code",
   "execution_count": 7,
   "id": "b69e985f",
   "metadata": {},
   "outputs": [
    {
     "data": {
      "text/plain": [
       "{'a': 'A', 'b': 'B', 'c': 'C'}"
      ]
     },
     "execution_count": 7,
     "metadata": {},
     "output_type": "execute_result"
    }
   ],
   "source": [
    "mapping([\"a\", \"b\", \"c\"])"
   ]
  },
  {
   "cell_type": "markdown",
   "id": "6ac99513",
   "metadata": {},
   "source": [
    "# Question4 Write a function, that replaces all vowels in a string with a specified vowel.\n",
    "## Examples\n",
    "## vow_replace(&quot;apples and bananas&quot;, &quot;u&quot;) ➞ &quot;upplus und bununus&quot;\n",
    "## vow_replace(&quot;cheese casserole&quot;, &quot;o&quot;) ➞ &quot;chooso cossorolo&quot;\n",
    "## vow_replace(&quot;stuffed jalapeno poppers&quot;, &quot;e&quot;) ➞ &quot;steffed jelepene peppers&quot;\n",
    "## Notes\n",
    "## All words will be lowercase. Y is not considered a vowel."
   ]
  },
  {
   "cell_type": "code",
   "execution_count": 8,
   "id": "10838f45",
   "metadata": {},
   "outputs": [
    {
     "data": {
      "text/plain": [
       "'upplus und bununus'"
      ]
     },
     "execution_count": 8,
     "metadata": {},
     "output_type": "execute_result"
    }
   ],
   "source": [
    "def vow_replace(string, s):\n",
    "    vow = ['a','e','i', 'o', 'u']\n",
    "    str1 = string\n",
    "    for i in vow:\n",
    "            str1 = str1.replace(i, s)\n",
    "    return str1\n",
    "\n",
    "vow_replace(\"apples and bananas\", \"u\")"
   ]
  },
  {
   "cell_type": "code",
   "execution_count": 9,
   "id": "e744c35e",
   "metadata": {},
   "outputs": [
    {
     "data": {
      "text/plain": [
       "'chooso cossorolo'"
      ]
     },
     "execution_count": 9,
     "metadata": {},
     "output_type": "execute_result"
    }
   ],
   "source": [
    "vow_replace(\"cheese casserole\", \"o\") "
   ]
  },
  {
   "cell_type": "code",
   "execution_count": 10,
   "id": "34582150",
   "metadata": {},
   "outputs": [
    {
     "data": {
      "text/plain": [
       "'steffed jelepene peppers'"
      ]
     },
     "execution_count": 10,
     "metadata": {},
     "output_type": "execute_result"
    }
   ],
   "source": [
    "vow_replace(\"stuffed jalapeno poppers\", \"e\")"
   ]
  },
  {
   "cell_type": "markdown",
   "id": "3c7cbf58",
   "metadata": {},
   "source": [
    "# Question5 Create a function that takes a string as input and capitalizes a letter if its ASCII code is even and returns its lower case version if its ASCII code is odd.\n",
    "## Examples\n",
    "## ascii_capitalize(&quot;to be or not to be!&quot;) ➞ &quot;To Be oR NoT To Be!&quot;\n",
    "## ascii_capitalize(&quot;THE LITTLE MERMAID&quot;) ➞ &quot;THe LiTTLe meRmaiD&quot;\n",
    "## ascii_capitalize(&quot;Oh what a beautiful morning.&quot;) ➞ &quot;oH wHaT a BeauTiFuL moRNiNg.&quot;"
   ]
  },
  {
   "cell_type": "code",
   "execution_count": 11,
   "id": "91c28e23",
   "metadata": {},
   "outputs": [
    {
     "data": {
      "text/plain": [
       "'To Be oR NoT To Be!'"
      ]
     },
     "execution_count": 11,
     "metadata": {},
     "output_type": "execute_result"
    }
   ],
   "source": [
    "def ascii_capitalize(s):\n",
    "    s1 = ''\n",
    "    for i in s:\n",
    "        if i==' ':\n",
    "            s1 += i\n",
    "        elif ord(i)%2==0:\n",
    "                s1 +=i.upper()\n",
    "        else:\n",
    "            s1 += i.lower()\n",
    "        \n",
    "    return s1\n",
    "\n",
    "ascii_capitalize(\"to be or not to be!\")"
   ]
  },
  {
   "cell_type": "code",
   "execution_count": 12,
   "id": "908689c4",
   "metadata": {},
   "outputs": [
    {
     "data": {
      "text/plain": [
       "'THe LiTTLe meRmaiD'"
      ]
     },
     "execution_count": 12,
     "metadata": {},
     "output_type": "execute_result"
    }
   ],
   "source": [
    "ascii_capitalize(\"THE LITTLE MERMAID\")"
   ]
  },
  {
   "cell_type": "code",
   "execution_count": null,
   "id": "03c13c4e",
   "metadata": {},
   "outputs": [],
   "source": []
  }
 ],
 "metadata": {
  "kernelspec": {
   "display_name": "Python 3 (ipykernel)",
   "language": "python",
   "name": "python3"
  },
  "language_info": {
   "codemirror_mode": {
    "name": "ipython",
    "version": 3
   },
   "file_extension": ".py",
   "mimetype": "text/x-python",
   "name": "python",
   "nbconvert_exporter": "python",
   "pygments_lexer": "ipython3",
   "version": "3.9.7"
  }
 },
 "nbformat": 4,
 "nbformat_minor": 5
}
