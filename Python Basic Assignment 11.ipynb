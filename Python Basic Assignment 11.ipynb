{
 "cells": [
  {
   "cell_type": "markdown",
   "id": "494c2566",
   "metadata": {},
   "source": [
    "# 1. Create an assert statement that throws an AssertionError if the variable spam is a negative integer."
   ]
  },
  {
   "cell_type": "code",
   "execution_count": 4,
   "id": "1f48bc53",
   "metadata": {},
   "outputs": [
    {
     "ename": "AssertionError",
     "evalue": "The spam variable is a negative integer.",
     "output_type": "error",
     "traceback": [
      "\u001b[1;31m---------------------------------------------------------------------------\u001b[0m",
      "\u001b[1;31mAssertionError\u001b[0m                            Traceback (most recent call last)",
      "\u001b[1;32m~\\AppData\\Local\\Temp/ipykernel_2632/1869717048.py\u001b[0m in \u001b[0;36m<module>\u001b[1;34m\u001b[0m\n\u001b[0;32m      1\u001b[0m \u001b[0mspam\u001b[0m \u001b[1;33m=\u001b[0m \u001b[1;33m-\u001b[0m\u001b[1;36m5\u001b[0m\u001b[1;33m\u001b[0m\u001b[1;33m\u001b[0m\u001b[0m\n\u001b[0;32m      2\u001b[0m \u001b[1;33m\u001b[0m\u001b[0m\n\u001b[1;32m----> 3\u001b[1;33m \u001b[1;32massert\u001b[0m \u001b[0mspam\u001b[0m \u001b[1;33m>\u001b[0m \u001b[1;36m0\u001b[0m\u001b[1;33m,\u001b[0m \u001b[1;34m'The spam variable is a negative integer.'\u001b[0m\u001b[1;33m\u001b[0m\u001b[1;33m\u001b[0m\u001b[0m\n\u001b[0m",
      "\u001b[1;31mAssertionError\u001b[0m: The spam variable is a negative integer."
     ]
    }
   ],
   "source": [
    "spam = -5\n",
    "\n",
    "assert spam > 0, 'The spam variable is a negative integer.'"
   ]
  },
  {
   "cell_type": "markdown",
   "id": "2aac252a",
   "metadata": {},
   "source": [
    "# 2. Write an assert statement that triggers an AssertionError if the variables eggs and bacon contain strings that are the same as each other, even if their cases are different (that is, &#39;hello&#39; and &#39;hello&#39; are considered the same, and &#39;goodbye&#39; and &#39;GOODbye&#39; are also considered the same)."
   ]
  },
  {
   "cell_type": "code",
   "execution_count": 5,
   "id": "e1473ecb",
   "metadata": {},
   "outputs": [
    {
     "ename": "AssertionError",
     "evalue": "The eggs and bacon variable are same.",
     "output_type": "error",
     "traceback": [
      "\u001b[1;31m---------------------------------------------------------------------------\u001b[0m",
      "\u001b[1;31mAssertionError\u001b[0m                            Traceback (most recent call last)",
      "\u001b[1;32m~\\AppData\\Local\\Temp/ipykernel_2632/2231258517.py\u001b[0m in \u001b[0;36m<module>\u001b[1;34m\u001b[0m\n\u001b[0;32m      2\u001b[0m \u001b[0mbacon\u001b[0m \u001b[1;33m=\u001b[0m \u001b[1;34m'HelLo'\u001b[0m\u001b[1;33m\u001b[0m\u001b[1;33m\u001b[0m\u001b[0m\n\u001b[0;32m      3\u001b[0m \u001b[1;33m\u001b[0m\u001b[0m\n\u001b[1;32m----> 4\u001b[1;33m \u001b[1;32massert\u001b[0m \u001b[0meggs\u001b[0m\u001b[1;33m.\u001b[0m\u001b[0mlower\u001b[0m\u001b[1;33m(\u001b[0m\u001b[1;33m)\u001b[0m\u001b[1;33m!=\u001b[0m\u001b[0mbacon\u001b[0m\u001b[1;33m.\u001b[0m\u001b[0mlower\u001b[0m\u001b[1;33m(\u001b[0m\u001b[1;33m)\u001b[0m\u001b[1;33m,\u001b[0m \u001b[1;34m'The eggs and bacon variable are same.'\u001b[0m\u001b[1;33m\u001b[0m\u001b[1;33m\u001b[0m\u001b[0m\n\u001b[0m",
      "\u001b[1;31mAssertionError\u001b[0m: The eggs and bacon variable are same."
     ]
    }
   ],
   "source": [
    "eggs = 'hello'\n",
    "bacon = 'HelLo'\n",
    "\n",
    "assert eggs.lower()!=bacon.lower(), 'The eggs and bacon variable are same.'"
   ]
  },
  {
   "cell_type": "markdown",
   "id": "cce76937",
   "metadata": {},
   "source": [
    "# 3. Create an assert statement that throws an AssertionError every time."
   ]
  },
  {
   "cell_type": "code",
   "execution_count": 6,
   "id": "b486ebaf",
   "metadata": {},
   "outputs": [
    {
     "ename": "AssertionError",
     "evalue": "AssertionError every time.",
     "output_type": "error",
     "traceback": [
      "\u001b[1;31m---------------------------------------------------------------------------\u001b[0m",
      "\u001b[1;31mAssertionError\u001b[0m                            Traceback (most recent call last)",
      "\u001b[1;32m~\\AppData\\Local\\Temp/ipykernel_2632/836036701.py\u001b[0m in \u001b[0;36m<module>\u001b[1;34m\u001b[0m\n\u001b[0;32m      1\u001b[0m \u001b[0ma\u001b[0m \u001b[1;33m=\u001b[0m \u001b[1;36m5\u001b[0m\u001b[1;33m\u001b[0m\u001b[1;33m\u001b[0m\u001b[0m\n\u001b[0;32m      2\u001b[0m \u001b[1;33m\u001b[0m\u001b[0m\n\u001b[1;32m----> 3\u001b[1;33m \u001b[1;32massert\u001b[0m \u001b[1;32mFalse\u001b[0m\u001b[1;33m,\u001b[0m \u001b[1;34m'AssertionError every time.'\u001b[0m\u001b[1;33m\u001b[0m\u001b[1;33m\u001b[0m\u001b[0m\n\u001b[0m",
      "\u001b[1;31mAssertionError\u001b[0m: AssertionError every time."
     ]
    }
   ],
   "source": [
    "a = 5\n",
    "\n",
    "assert False, 'AssertionError every time.'"
   ]
  },
  {
   "cell_type": "markdown",
   "id": "95bdb8b7",
   "metadata": {},
   "source": [
    "# 4. What are the two lines that must be present in your software in order to call logging.debug()?"
   ]
  },
  {
   "cell_type": "markdown",
   "id": "7e6e4bb6",
   "metadata": {},
   "source": [
    "The following 2 lines should always be present in the software program in order to call logging.debug():\n",
    "<br>\n",
    "import logging<br>\n",
    "logging.basicConfig(level=logging.DEBUG, format=' %(asctime)s -\n",
    "%(levelname)s -  %(message)s')\n"
   ]
  },
  {
   "cell_type": "markdown",
   "id": "13bc80c7",
   "metadata": {},
   "source": [
    "# 5. What are the two lines that your program must have in order to have logging.debug() send a logging message to a file named programLog.txt?"
   ]
  },
  {
   "cell_type": "markdown",
   "id": "c93c2f42",
   "metadata": {},
   "source": [
    "The following 2 lines should always be present: <br>import logging<br>\n",
    "logging.basicConfig(filename='programLog.txt', level=logging.DEBUG,\n",
    "format=' %(asctime)s -  %(levelname)s -  %(message)s')\n"
   ]
  },
  {
   "cell_type": "markdown",
   "id": "d0b461fb",
   "metadata": {},
   "source": [
    "# 6. What are the five levels of logging?\n",
    "\n",
    "<ol>\n",
    "    <li>Debug</li>\n",
    "    <li>Info</li>\n",
    "    <li>Warning</li>\n",
    "    <li>Error</li>\n",
    "    <li>Critical</li>"
   ]
  },
  {
   "cell_type": "markdown",
   "id": "d147cb1c",
   "metadata": {},
   "source": [
    "# 7. What line of code would you add to your software to disable all logging messages?\n",
    "\n",
    "Using logging.disable(logging.CRITICAL)"
   ]
  },
  {
   "cell_type": "markdown",
   "id": "8b31d3c3",
   "metadata": {},
   "source": [
    "# 8.Why is using logging messages better than using print() to display the same message?\n",
    "\n",
    "We can create logging messages including the timestamp.\n",
    "<br> We can disable lower level logging messages without removing the logging methods."
   ]
  },
  {
   "cell_type": "markdown",
   "id": "14f9316a",
   "metadata": {},
   "source": [
    "# 9. What are the differences between the Step Over, Step In, and Step Out buttons in the debugger?"
   ]
  },
  {
   "cell_type": "markdown",
   "id": "375b6f86",
   "metadata": {},
   "source": [
    "Step In button makes the debugger move into the function call.<br>\n",
    "The Step over button quickly executes the function call without making the debugger move into it.<br>\n",
    "The step out button quickly executes the rest of the code until it steps out of the function it currently is in"
   ]
  },
  {
   "cell_type": "markdown",
   "id": "585fc550",
   "metadata": {},
   "source": [
    "# 10.After you click Continue, when will the debugger stop ?\n",
    "\n",
    "When a breakpoint is reached."
   ]
  },
  {
   "cell_type": "markdown",
   "id": "b6b427c9",
   "metadata": {},
   "source": [
    "# 11. What is the concept of a breakpoint?\n",
    "\n",
    "It is a feature that causes the debugger to pause when the program execution reaches the line."
   ]
  },
  {
   "cell_type": "code",
   "execution_count": null,
   "id": "6582501d",
   "metadata": {},
   "outputs": [],
   "source": []
  }
 ],
 "metadata": {
  "kernelspec": {
   "display_name": "Python 3 (ipykernel)",
   "language": "python",
   "name": "python3"
  },
  "language_info": {
   "codemirror_mode": {
    "name": "ipython",
    "version": 3
   },
   "file_extension": ".py",
   "mimetype": "text/x-python",
   "name": "python",
   "nbconvert_exporter": "python",
   "pygments_lexer": "ipython3",
   "version": "3.9.7"
  }
 },
 "nbformat": 4,
 "nbformat_minor": 5
}
